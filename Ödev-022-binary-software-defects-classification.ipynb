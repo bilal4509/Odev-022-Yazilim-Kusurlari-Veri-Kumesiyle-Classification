{
 "cells": [
  {
   "cell_type": "markdown",
   "metadata": {},
   "source": [
    "<img src='11.jpg'>"
   ]
  },
  {
   "cell_type": "code",
   "execution_count": 1,
   "metadata": {
    "_cell_guid": "b1076dfc-b9ad-4769-8c92-a6c4dae69d19",
    "_uuid": "8f2839f25d086af736a60e9eeb907d3b93b6e0e5",
    "execution": {
     "iopub.execute_input": "2023-12-14T15:21:38.281695Z",
     "iopub.status.busy": "2023-12-14T15:21:38.281331Z",
     "iopub.status.idle": "2023-12-14T15:21:38.672882Z",
     "shell.execute_reply": "2023-12-14T15:21:38.671861Z",
     "shell.execute_reply.started": "2023-12-14T15:21:38.281664Z"
    }
   },
   "outputs": [
    {
     "name": "stdout",
     "output_type": "stream",
     "text": [
      "/kaggle/input/playground-series-s3e23/sample_submission.csv\n",
      "/kaggle/input/playground-series-s3e23/train.csv\n",
      "/kaggle/input/playground-series-s3e23/test.csv\n"
     ]
    }
   ],
   "source": [
    "# This Python 3 environment comes with many helpful analytics libraries installed\n",
    "# It is defined by the kaggle/python Docker image: https://github.com/kaggle/docker-python\n",
    "# For example, here's several helpful packages to load\n",
    "\n",
    "import numpy as np # linear algebra\n",
    "import pandas as pd # data processing, CSV file I/O (e.g. pd.read_csv)\n",
    "\n",
    "# Input data files are available in the read-only \"../input/\" directory\n",
    "# For example, running this (by clicking run or pressing Shift+Enter) will list all files under the input directory\n",
    "\n",
    "import os\n",
    "for dirname, _, filenames in os.walk('/kaggle/input'):\n",
    "    for filename in filenames:\n",
    "        print(os.path.join(dirname, filename))\n",
    "\n",
    "# You can write up to 20GB to the current directory (/kaggle/working/) that gets preserved as output when you create a version using \"Save & Run All\" \n",
    "# You can also write temporary files to /kaggle/temp/, but they won't be saved outside of the current session"
   ]
  },
  {
   "cell_type": "code",
   "execution_count": 2,
   "metadata": {
    "execution": {
     "iopub.execute_input": "2023-12-14T15:22:07.735352Z",
     "iopub.status.busy": "2023-12-14T15:22:07.734866Z",
     "iopub.status.idle": "2023-12-14T15:22:08.169621Z",
     "shell.execute_reply": "2023-12-14T15:22:08.168577Z",
     "shell.execute_reply.started": "2023-12-14T15:22:07.735318Z"
    }
   },
   "outputs": [
    {
     "data": {
      "text/html": [
       "<div>\n",
       "<style scoped>\n",
       "    .dataframe tbody tr th:only-of-type {\n",
       "        vertical-align: middle;\n",
       "    }\n",
       "\n",
       "    .dataframe tbody tr th {\n",
       "        vertical-align: top;\n",
       "    }\n",
       "\n",
       "    .dataframe thead th {\n",
       "        text-align: right;\n",
       "    }\n",
       "</style>\n",
       "<table border=\"1\" class=\"dataframe\">\n",
       "  <thead>\n",
       "    <tr style=\"text-align: right;\">\n",
       "      <th></th>\n",
       "      <th>id</th>\n",
       "      <th>loc</th>\n",
       "      <th>v(g)</th>\n",
       "      <th>ev(g)</th>\n",
       "      <th>iv(g)</th>\n",
       "      <th>n</th>\n",
       "      <th>v</th>\n",
       "      <th>l</th>\n",
       "      <th>d</th>\n",
       "      <th>i</th>\n",
       "      <th>...</th>\n",
       "      <th>lOCode</th>\n",
       "      <th>lOComment</th>\n",
       "      <th>lOBlank</th>\n",
       "      <th>locCodeAndComment</th>\n",
       "      <th>uniq_Op</th>\n",
       "      <th>uniq_Opnd</th>\n",
       "      <th>total_Op</th>\n",
       "      <th>total_Opnd</th>\n",
       "      <th>branchCount</th>\n",
       "      <th>defects</th>\n",
       "    </tr>\n",
       "  </thead>\n",
       "  <tbody>\n",
       "    <tr>\n",
       "      <th>0</th>\n",
       "      <td>0</td>\n",
       "      <td>22.0</td>\n",
       "      <td>3.0</td>\n",
       "      <td>1.0</td>\n",
       "      <td>2.0</td>\n",
       "      <td>60.0</td>\n",
       "      <td>278.63</td>\n",
       "      <td>0.06</td>\n",
       "      <td>19.56</td>\n",
       "      <td>14.25</td>\n",
       "      <td>...</td>\n",
       "      <td>17</td>\n",
       "      <td>1</td>\n",
       "      <td>1</td>\n",
       "      <td>0</td>\n",
       "      <td>16.0</td>\n",
       "      <td>9.0</td>\n",
       "      <td>38.0</td>\n",
       "      <td>22.0</td>\n",
       "      <td>5.0</td>\n",
       "      <td>False</td>\n",
       "    </tr>\n",
       "    <tr>\n",
       "      <th>1</th>\n",
       "      <td>1</td>\n",
       "      <td>14.0</td>\n",
       "      <td>2.0</td>\n",
       "      <td>1.0</td>\n",
       "      <td>2.0</td>\n",
       "      <td>32.0</td>\n",
       "      <td>151.27</td>\n",
       "      <td>0.14</td>\n",
       "      <td>7.00</td>\n",
       "      <td>21.11</td>\n",
       "      <td>...</td>\n",
       "      <td>11</td>\n",
       "      <td>0</td>\n",
       "      <td>1</td>\n",
       "      <td>0</td>\n",
       "      <td>11.0</td>\n",
       "      <td>11.0</td>\n",
       "      <td>18.0</td>\n",
       "      <td>14.0</td>\n",
       "      <td>3.0</td>\n",
       "      <td>False</td>\n",
       "    </tr>\n",
       "    <tr>\n",
       "      <th>2</th>\n",
       "      <td>2</td>\n",
       "      <td>11.0</td>\n",
       "      <td>2.0</td>\n",
       "      <td>1.0</td>\n",
       "      <td>2.0</td>\n",
       "      <td>45.0</td>\n",
       "      <td>197.65</td>\n",
       "      <td>0.11</td>\n",
       "      <td>8.05</td>\n",
       "      <td>22.76</td>\n",
       "      <td>...</td>\n",
       "      <td>8</td>\n",
       "      <td>0</td>\n",
       "      <td>1</td>\n",
       "      <td>0</td>\n",
       "      <td>12.0</td>\n",
       "      <td>11.0</td>\n",
       "      <td>28.0</td>\n",
       "      <td>17.0</td>\n",
       "      <td>3.0</td>\n",
       "      <td>False</td>\n",
       "    </tr>\n",
       "    <tr>\n",
       "      <th>3</th>\n",
       "      <td>3</td>\n",
       "      <td>8.0</td>\n",
       "      <td>1.0</td>\n",
       "      <td>1.0</td>\n",
       "      <td>1.0</td>\n",
       "      <td>23.0</td>\n",
       "      <td>94.01</td>\n",
       "      <td>0.19</td>\n",
       "      <td>5.25</td>\n",
       "      <td>17.86</td>\n",
       "      <td>...</td>\n",
       "      <td>4</td>\n",
       "      <td>0</td>\n",
       "      <td>2</td>\n",
       "      <td>0</td>\n",
       "      <td>8.0</td>\n",
       "      <td>6.0</td>\n",
       "      <td>16.0</td>\n",
       "      <td>7.0</td>\n",
       "      <td>1.0</td>\n",
       "      <td>True</td>\n",
       "    </tr>\n",
       "    <tr>\n",
       "      <th>4</th>\n",
       "      <td>4</td>\n",
       "      <td>11.0</td>\n",
       "      <td>2.0</td>\n",
       "      <td>1.0</td>\n",
       "      <td>2.0</td>\n",
       "      <td>17.0</td>\n",
       "      <td>60.94</td>\n",
       "      <td>0.18</td>\n",
       "      <td>5.63</td>\n",
       "      <td>12.44</td>\n",
       "      <td>...</td>\n",
       "      <td>7</td>\n",
       "      <td>0</td>\n",
       "      <td>2</td>\n",
       "      <td>0</td>\n",
       "      <td>7.0</td>\n",
       "      <td>6.0</td>\n",
       "      <td>10.0</td>\n",
       "      <td>10.0</td>\n",
       "      <td>3.0</td>\n",
       "      <td>False</td>\n",
       "    </tr>\n",
       "  </tbody>\n",
       "</table>\n",
       "<p>5 rows × 23 columns</p>\n",
       "</div>"
      ],
      "text/plain": [
       "   id   loc  v(g)  ev(g)  iv(g)     n       v     l      d      i  ...  \\\n",
       "0   0  22.0   3.0    1.0    2.0  60.0  278.63  0.06  19.56  14.25  ...   \n",
       "1   1  14.0   2.0    1.0    2.0  32.0  151.27  0.14   7.00  21.11  ...   \n",
       "2   2  11.0   2.0    1.0    2.0  45.0  197.65  0.11   8.05  22.76  ...   \n",
       "3   3   8.0   1.0    1.0    1.0  23.0   94.01  0.19   5.25  17.86  ...   \n",
       "4   4  11.0   2.0    1.0    2.0  17.0   60.94  0.18   5.63  12.44  ...   \n",
       "\n",
       "   lOCode  lOComment  lOBlank  locCodeAndComment  uniq_Op  uniq_Opnd  \\\n",
       "0      17          1        1                  0     16.0        9.0   \n",
       "1      11          0        1                  0     11.0       11.0   \n",
       "2       8          0        1                  0     12.0       11.0   \n",
       "3       4          0        2                  0      8.0        6.0   \n",
       "4       7          0        2                  0      7.0        6.0   \n",
       "\n",
       "   total_Op  total_Opnd  branchCount  defects  \n",
       "0      38.0        22.0          5.0    False  \n",
       "1      18.0        14.0          3.0    False  \n",
       "2      28.0        17.0          3.0    False  \n",
       "3      16.0         7.0          1.0     True  \n",
       "4      10.0        10.0          3.0    False  \n",
       "\n",
       "[5 rows x 23 columns]"
      ]
     },
     "execution_count": 2,
     "metadata": {},
     "output_type": "execute_result"
    }
   ],
   "source": [
    "df = pd.read_csv(\"/kaggle/input/playground-series-s3e23/train.csv\")\n",
    "df.head()"
   ]
  },
  {
   "cell_type": "code",
   "execution_count": 3,
   "metadata": {
    "execution": {
     "iopub.execute_input": "2023-12-14T15:23:00.859436Z",
     "iopub.status.busy": "2023-12-14T15:23:00.859064Z",
     "iopub.status.idle": "2023-12-14T15:23:00.871523Z",
     "shell.execute_reply": "2023-12-14T15:23:00.870309Z",
     "shell.execute_reply.started": "2023-12-14T15:23:00.859405Z"
    }
   },
   "outputs": [
    {
     "data": {
      "text/plain": [
       "id                   0\n",
       "loc                  0\n",
       "v(g)                 0\n",
       "ev(g)                0\n",
       "iv(g)                0\n",
       "n                    0\n",
       "v                    0\n",
       "l                    0\n",
       "d                    0\n",
       "i                    0\n",
       "e                    0\n",
       "b                    0\n",
       "t                    0\n",
       "lOCode               0\n",
       "lOComment            0\n",
       "lOBlank              0\n",
       "locCodeAndComment    0\n",
       "uniq_Op              0\n",
       "uniq_Opnd            0\n",
       "total_Op             0\n",
       "total_Opnd           0\n",
       "branchCount          0\n",
       "defects              0\n",
       "dtype: int64"
      ]
     },
     "execution_count": 3,
     "metadata": {},
     "output_type": "execute_result"
    }
   ],
   "source": [
    "df.isnull().sum()"
   ]
  },
  {
   "cell_type": "code",
   "execution_count": 11,
   "metadata": {
    "execution": {
     "iopub.execute_input": "2023-12-14T15:38:27.644595Z",
     "iopub.status.busy": "2023-12-14T15:38:27.644204Z",
     "iopub.status.idle": "2023-12-14T15:38:27.648839Z",
     "shell.execute_reply": "2023-12-14T15:38:27.647735Z",
     "shell.execute_reply.started": "2023-12-14T15:38:27.644564Z"
    }
   },
   "outputs": [],
   "source": [
    "#pip install pycaret"
   ]
  },
  {
   "cell_type": "code",
   "execution_count": 5,
   "metadata": {
    "execution": {
     "iopub.execute_input": "2023-12-14T15:24:15.992979Z",
     "iopub.status.busy": "2023-12-14T15:24:15.992484Z",
     "iopub.status.idle": "2023-12-14T15:24:20.424321Z",
     "shell.execute_reply": "2023-12-14T15:24:20.423222Z",
     "shell.execute_reply.started": "2023-12-14T15:24:15.992847Z"
    }
   },
   "outputs": [],
   "source": [
    "from pycaret.classification import*"
   ]
  },
  {
   "cell_type": "code",
   "execution_count": 6,
   "metadata": {
    "execution": {
     "iopub.execute_input": "2023-12-14T15:24:24.390830Z",
     "iopub.status.busy": "2023-12-14T15:24:24.390317Z",
     "iopub.status.idle": "2023-12-14T15:24:27.731734Z",
     "shell.execute_reply": "2023-12-14T15:24:27.730700Z",
     "shell.execute_reply.started": "2023-12-14T15:24:24.390784Z"
    }
   },
   "outputs": [
    {
     "data": {
      "text/html": [
       "<style type=\"text/css\">\n",
       "#T_23414_row8_col1 {\n",
       "  background-color: lightgreen;\n",
       "}\n",
       "</style>\n",
       "<table id=\"T_23414\">\n",
       "  <thead>\n",
       "    <tr>\n",
       "      <th class=\"blank level0\" >&nbsp;</th>\n",
       "      <th id=\"T_23414_level0_col0\" class=\"col_heading level0 col0\" >Description</th>\n",
       "      <th id=\"T_23414_level0_col1\" class=\"col_heading level0 col1\" >Value</th>\n",
       "    </tr>\n",
       "  </thead>\n",
       "  <tbody>\n",
       "    <tr>\n",
       "      <th id=\"T_23414_level0_row0\" class=\"row_heading level0 row0\" >0</th>\n",
       "      <td id=\"T_23414_row0_col0\" class=\"data row0 col0\" >Session id</td>\n",
       "      <td id=\"T_23414_row0_col1\" class=\"data row0 col1\" >4822</td>\n",
       "    </tr>\n",
       "    <tr>\n",
       "      <th id=\"T_23414_level0_row1\" class=\"row_heading level0 row1\" >1</th>\n",
       "      <td id=\"T_23414_row1_col0\" class=\"data row1 col0\" >Target</td>\n",
       "      <td id=\"T_23414_row1_col1\" class=\"data row1 col1\" >defects</td>\n",
       "    </tr>\n",
       "    <tr>\n",
       "      <th id=\"T_23414_level0_row2\" class=\"row_heading level0 row2\" >2</th>\n",
       "      <td id=\"T_23414_row2_col0\" class=\"data row2 col0\" >Target type</td>\n",
       "      <td id=\"T_23414_row2_col1\" class=\"data row2 col1\" >Binary</td>\n",
       "    </tr>\n",
       "    <tr>\n",
       "      <th id=\"T_23414_level0_row3\" class=\"row_heading level0 row3\" >3</th>\n",
       "      <td id=\"T_23414_row3_col0\" class=\"data row3 col0\" >Original data shape</td>\n",
       "      <td id=\"T_23414_row3_col1\" class=\"data row3 col1\" >(101763, 23)</td>\n",
       "    </tr>\n",
       "    <tr>\n",
       "      <th id=\"T_23414_level0_row4\" class=\"row_heading level0 row4\" >4</th>\n",
       "      <td id=\"T_23414_row4_col0\" class=\"data row4 col0\" >Transformed data shape</td>\n",
       "      <td id=\"T_23414_row4_col1\" class=\"data row4 col1\" >(101763, 23)</td>\n",
       "    </tr>\n",
       "    <tr>\n",
       "      <th id=\"T_23414_level0_row5\" class=\"row_heading level0 row5\" >5</th>\n",
       "      <td id=\"T_23414_row5_col0\" class=\"data row5 col0\" >Transformed train set shape</td>\n",
       "      <td id=\"T_23414_row5_col1\" class=\"data row5 col1\" >(71234, 23)</td>\n",
       "    </tr>\n",
       "    <tr>\n",
       "      <th id=\"T_23414_level0_row6\" class=\"row_heading level0 row6\" >6</th>\n",
       "      <td id=\"T_23414_row6_col0\" class=\"data row6 col0\" >Transformed test set shape</td>\n",
       "      <td id=\"T_23414_row6_col1\" class=\"data row6 col1\" >(30529, 23)</td>\n",
       "    </tr>\n",
       "    <tr>\n",
       "      <th id=\"T_23414_level0_row7\" class=\"row_heading level0 row7\" >7</th>\n",
       "      <td id=\"T_23414_row7_col0\" class=\"data row7 col0\" >Numeric features</td>\n",
       "      <td id=\"T_23414_row7_col1\" class=\"data row7 col1\" >22</td>\n",
       "    </tr>\n",
       "    <tr>\n",
       "      <th id=\"T_23414_level0_row8\" class=\"row_heading level0 row8\" >8</th>\n",
       "      <td id=\"T_23414_row8_col0\" class=\"data row8 col0\" >Preprocess</td>\n",
       "      <td id=\"T_23414_row8_col1\" class=\"data row8 col1\" >True</td>\n",
       "    </tr>\n",
       "    <tr>\n",
       "      <th id=\"T_23414_level0_row9\" class=\"row_heading level0 row9\" >9</th>\n",
       "      <td id=\"T_23414_row9_col0\" class=\"data row9 col0\" >Imputation type</td>\n",
       "      <td id=\"T_23414_row9_col1\" class=\"data row9 col1\" >simple</td>\n",
       "    </tr>\n",
       "    <tr>\n",
       "      <th id=\"T_23414_level0_row10\" class=\"row_heading level0 row10\" >10</th>\n",
       "      <td id=\"T_23414_row10_col0\" class=\"data row10 col0\" >Numeric imputation</td>\n",
       "      <td id=\"T_23414_row10_col1\" class=\"data row10 col1\" >mean</td>\n",
       "    </tr>\n",
       "    <tr>\n",
       "      <th id=\"T_23414_level0_row11\" class=\"row_heading level0 row11\" >11</th>\n",
       "      <td id=\"T_23414_row11_col0\" class=\"data row11 col0\" >Categorical imputation</td>\n",
       "      <td id=\"T_23414_row11_col1\" class=\"data row11 col1\" >mode</td>\n",
       "    </tr>\n",
       "    <tr>\n",
       "      <th id=\"T_23414_level0_row12\" class=\"row_heading level0 row12\" >12</th>\n",
       "      <td id=\"T_23414_row12_col0\" class=\"data row12 col0\" >Fold Generator</td>\n",
       "      <td id=\"T_23414_row12_col1\" class=\"data row12 col1\" >StratifiedKFold</td>\n",
       "    </tr>\n",
       "    <tr>\n",
       "      <th id=\"T_23414_level0_row13\" class=\"row_heading level0 row13\" >13</th>\n",
       "      <td id=\"T_23414_row13_col0\" class=\"data row13 col0\" >Fold Number</td>\n",
       "      <td id=\"T_23414_row13_col1\" class=\"data row13 col1\" >10</td>\n",
       "    </tr>\n",
       "    <tr>\n",
       "      <th id=\"T_23414_level0_row14\" class=\"row_heading level0 row14\" >14</th>\n",
       "      <td id=\"T_23414_row14_col0\" class=\"data row14 col0\" >CPU Jobs</td>\n",
       "      <td id=\"T_23414_row14_col1\" class=\"data row14 col1\" >-1</td>\n",
       "    </tr>\n",
       "    <tr>\n",
       "      <th id=\"T_23414_level0_row15\" class=\"row_heading level0 row15\" >15</th>\n",
       "      <td id=\"T_23414_row15_col0\" class=\"data row15 col0\" >Use GPU</td>\n",
       "      <td id=\"T_23414_row15_col1\" class=\"data row15 col1\" >False</td>\n",
       "    </tr>\n",
       "    <tr>\n",
       "      <th id=\"T_23414_level0_row16\" class=\"row_heading level0 row16\" >16</th>\n",
       "      <td id=\"T_23414_row16_col0\" class=\"data row16 col0\" >Log Experiment</td>\n",
       "      <td id=\"T_23414_row16_col1\" class=\"data row16 col1\" >False</td>\n",
       "    </tr>\n",
       "    <tr>\n",
       "      <th id=\"T_23414_level0_row17\" class=\"row_heading level0 row17\" >17</th>\n",
       "      <td id=\"T_23414_row17_col0\" class=\"data row17 col0\" >Experiment Name</td>\n",
       "      <td id=\"T_23414_row17_col1\" class=\"data row17 col1\" >clf-default-name</td>\n",
       "    </tr>\n",
       "    <tr>\n",
       "      <th id=\"T_23414_level0_row18\" class=\"row_heading level0 row18\" >18</th>\n",
       "      <td id=\"T_23414_row18_col0\" class=\"data row18 col0\" >USI</td>\n",
       "      <td id=\"T_23414_row18_col1\" class=\"data row18 col1\" >0e41</td>\n",
       "    </tr>\n",
       "  </tbody>\n",
       "</table>\n"
      ],
      "text/plain": [
       "<pandas.io.formats.style.Styler at 0x7a979e39f3d0>"
      ]
     },
     "metadata": {},
     "output_type": "display_data"
    },
    {
     "data": {
      "text/plain": [
       "<pycaret.classification.oop.ClassificationExperiment at 0x7a97ce2cab00>"
      ]
     },
     "execution_count": 6,
     "metadata": {},
     "output_type": "execute_result"
    }
   ],
   "source": [
    "setup(df,target='defects')"
   ]
  },
  {
   "cell_type": "code",
   "execution_count": 7,
   "metadata": {
    "execution": {
     "iopub.execute_input": "2023-12-14T15:24:52.701789Z",
     "iopub.status.busy": "2023-12-14T15:24:52.701389Z",
     "iopub.status.idle": "2023-12-14T15:34:01.172091Z",
     "shell.execute_reply": "2023-12-14T15:34:01.171313Z",
     "shell.execute_reply.started": "2023-12-14T15:24:52.701754Z"
    }
   },
   "outputs": [
    {
     "data": {
      "text/html": [],
      "text/plain": [
       "<IPython.core.display.HTML object>"
      ]
     },
     "metadata": {},
     "output_type": "display_data"
    },
    {
     "data": {
      "text/html": [
       "<style type=\"text/css\">\n",
       "#T_030a6 th {\n",
       "  text-align: left;\n",
       "}\n",
       "#T_030a6_row0_col0, #T_030a6_row0_col3, #T_030a6_row0_col4, #T_030a6_row1_col0, #T_030a6_row1_col1, #T_030a6_row1_col2, #T_030a6_row1_col3, #T_030a6_row1_col4, #T_030a6_row1_col5, #T_030a6_row1_col6, #T_030a6_row1_col7, #T_030a6_row2_col0, #T_030a6_row2_col1, #T_030a6_row2_col2, #T_030a6_row2_col3, #T_030a6_row2_col4, #T_030a6_row2_col5, #T_030a6_row2_col6, #T_030a6_row2_col7, #T_030a6_row3_col0, #T_030a6_row3_col1, #T_030a6_row3_col2, #T_030a6_row3_col3, #T_030a6_row3_col4, #T_030a6_row3_col5, #T_030a6_row3_col6, #T_030a6_row3_col7, #T_030a6_row4_col0, #T_030a6_row4_col1, #T_030a6_row4_col2, #T_030a6_row4_col3, #T_030a6_row4_col4, #T_030a6_row4_col5, #T_030a6_row4_col6, #T_030a6_row4_col7, #T_030a6_row5_col0, #T_030a6_row5_col1, #T_030a6_row5_col2, #T_030a6_row5_col3, #T_030a6_row5_col4, #T_030a6_row5_col5, #T_030a6_row5_col6, #T_030a6_row5_col7, #T_030a6_row6_col0, #T_030a6_row6_col1, #T_030a6_row6_col2, #T_030a6_row6_col3, #T_030a6_row6_col4, #T_030a6_row6_col5, #T_030a6_row6_col6, #T_030a6_row6_col7, #T_030a6_row7_col0, #T_030a6_row7_col1, #T_030a6_row7_col2, #T_030a6_row7_col3, #T_030a6_row7_col4, #T_030a6_row7_col5, #T_030a6_row7_col6, #T_030a6_row7_col7, #T_030a6_row8_col0, #T_030a6_row8_col1, #T_030a6_row8_col2, #T_030a6_row8_col3, #T_030a6_row8_col4, #T_030a6_row8_col5, #T_030a6_row8_col6, #T_030a6_row8_col7, #T_030a6_row9_col0, #T_030a6_row9_col1, #T_030a6_row9_col2, #T_030a6_row9_col3, #T_030a6_row9_col4, #T_030a6_row9_col5, #T_030a6_row9_col6, #T_030a6_row9_col7, #T_030a6_row10_col0, #T_030a6_row10_col1, #T_030a6_row10_col2, #T_030a6_row10_col3, #T_030a6_row10_col5, #T_030a6_row10_col6, #T_030a6_row10_col7, #T_030a6_row11_col0, #T_030a6_row11_col1, #T_030a6_row11_col2, #T_030a6_row11_col3, #T_030a6_row11_col4, #T_030a6_row11_col5, #T_030a6_row11_col6, #T_030a6_row11_col7, #T_030a6_row12_col0, #T_030a6_row12_col1, #T_030a6_row12_col2, #T_030a6_row12_col3, #T_030a6_row12_col4, #T_030a6_row12_col5, #T_030a6_row12_col6, #T_030a6_row12_col7, #T_030a6_row13_col0, #T_030a6_row13_col1, #T_030a6_row13_col2, #T_030a6_row13_col4, #T_030a6_row13_col5, #T_030a6_row13_col6, #T_030a6_row13_col7, #T_030a6_row14_col0, #T_030a6_row14_col1, #T_030a6_row14_col2, #T_030a6_row14_col3, #T_030a6_row14_col4, #T_030a6_row14_col5, #T_030a6_row14_col6, #T_030a6_row14_col7, #T_030a6_row15_col0, #T_030a6_row15_col1, #T_030a6_row15_col2, #T_030a6_row15_col3, #T_030a6_row15_col4, #T_030a6_row15_col5, #T_030a6_row15_col6, #T_030a6_row15_col7 {\n",
       "  text-align: left;\n",
       "}\n",
       "#T_030a6_row0_col1, #T_030a6_row0_col2, #T_030a6_row0_col5, #T_030a6_row0_col6, #T_030a6_row0_col7, #T_030a6_row10_col4, #T_030a6_row13_col3 {\n",
       "  text-align: left;\n",
       "  background-color: yellow;\n",
       "}\n",
       "#T_030a6_row0_col8, #T_030a6_row1_col8, #T_030a6_row2_col8, #T_030a6_row3_col8, #T_030a6_row4_col8, #T_030a6_row5_col8, #T_030a6_row6_col8, #T_030a6_row7_col8, #T_030a6_row9_col8, #T_030a6_row10_col8, #T_030a6_row11_col8, #T_030a6_row12_col8, #T_030a6_row13_col8, #T_030a6_row14_col8, #T_030a6_row15_col8 {\n",
       "  text-align: left;\n",
       "  background-color: lightgrey;\n",
       "}\n",
       "#T_030a6_row8_col8 {\n",
       "  text-align: left;\n",
       "  background-color: yellow;\n",
       "  background-color: lightgrey;\n",
       "}\n",
       "</style>\n",
       "<table id=\"T_030a6\">\n",
       "  <thead>\n",
       "    <tr>\n",
       "      <th class=\"blank level0\" >&nbsp;</th>\n",
       "      <th id=\"T_030a6_level0_col0\" class=\"col_heading level0 col0\" >Model</th>\n",
       "      <th id=\"T_030a6_level0_col1\" class=\"col_heading level0 col1\" >Accuracy</th>\n",
       "      <th id=\"T_030a6_level0_col2\" class=\"col_heading level0 col2\" >AUC</th>\n",
       "      <th id=\"T_030a6_level0_col3\" class=\"col_heading level0 col3\" >Recall</th>\n",
       "      <th id=\"T_030a6_level0_col4\" class=\"col_heading level0 col4\" >Prec.</th>\n",
       "      <th id=\"T_030a6_level0_col5\" class=\"col_heading level0 col5\" >F1</th>\n",
       "      <th id=\"T_030a6_level0_col6\" class=\"col_heading level0 col6\" >Kappa</th>\n",
       "      <th id=\"T_030a6_level0_col7\" class=\"col_heading level0 col7\" >MCC</th>\n",
       "      <th id=\"T_030a6_level0_col8\" class=\"col_heading level0 col8\" >TT (Sec)</th>\n",
       "    </tr>\n",
       "  </thead>\n",
       "  <tbody>\n",
       "    <tr>\n",
       "      <th id=\"T_030a6_level0_row0\" class=\"row_heading level0 row0\" >gbc</th>\n",
       "      <td id=\"T_030a6_row0_col0\" class=\"data row0 col0\" >Gradient Boosting Classifier</td>\n",
       "      <td id=\"T_030a6_row0_col1\" class=\"data row0 col1\" >0.8155</td>\n",
       "      <td id=\"T_030a6_row0_col2\" class=\"data row0 col2\" >0.7907</td>\n",
       "      <td id=\"T_030a6_row0_col3\" class=\"data row0 col3\" >0.3931</td>\n",
       "      <td id=\"T_030a6_row0_col4\" class=\"data row0 col4\" >0.6551</td>\n",
       "      <td id=\"T_030a6_row0_col5\" class=\"data row0 col5\" >0.4913</td>\n",
       "      <td id=\"T_030a6_row0_col6\" class=\"data row0 col6\" >0.3872</td>\n",
       "      <td id=\"T_030a6_row0_col7\" class=\"data row0 col7\" >0.4060</td>\n",
       "      <td id=\"T_030a6_row0_col8\" class=\"data row0 col8\" >8.8630</td>\n",
       "    </tr>\n",
       "    <tr>\n",
       "      <th id=\"T_030a6_level0_row1\" class=\"row_heading level0 row1\" >lightgbm</th>\n",
       "      <td id=\"T_030a6_row1_col0\" class=\"data row1 col0\" >Light Gradient Boosting Machine</td>\n",
       "      <td id=\"T_030a6_row1_col1\" class=\"data row1 col1\" >0.8150</td>\n",
       "      <td id=\"T_030a6_row1_col2\" class=\"data row1 col2\" >0.7898</td>\n",
       "      <td id=\"T_030a6_row1_col3\" class=\"data row1 col3\" >0.3851</td>\n",
       "      <td id=\"T_030a6_row1_col4\" class=\"data row1 col4\" >0.6566</td>\n",
       "      <td id=\"T_030a6_row1_col5\" class=\"data row1 col5\" >0.4854</td>\n",
       "      <td id=\"T_030a6_row1_col6\" class=\"data row1 col6\" >0.3818</td>\n",
       "      <td id=\"T_030a6_row1_col7\" class=\"data row1 col7\" >0.4021</td>\n",
       "      <td id=\"T_030a6_row1_col8\" class=\"data row1 col8\" >2.3720</td>\n",
       "    </tr>\n",
       "    <tr>\n",
       "      <th id=\"T_030a6_level0_row2\" class=\"row_heading level0 row2\" >ada</th>\n",
       "      <td id=\"T_030a6_row2_col0\" class=\"data row2 col0\" >Ada Boost Classifier</td>\n",
       "      <td id=\"T_030a6_row2_col1\" class=\"data row2 col1\" >0.8140</td>\n",
       "      <td id=\"T_030a6_row2_col2\" class=\"data row2 col2\" >0.7885</td>\n",
       "      <td id=\"T_030a6_row2_col3\" class=\"data row2 col3\" >0.3766</td>\n",
       "      <td id=\"T_030a6_row2_col4\" class=\"data row2 col4\" >0.6565</td>\n",
       "      <td id=\"T_030a6_row2_col5\" class=\"data row2 col5\" >0.4784</td>\n",
       "      <td id=\"T_030a6_row2_col6\" class=\"data row2 col6\" >0.3752</td>\n",
       "      <td id=\"T_030a6_row2_col7\" class=\"data row2 col7\" >0.3968</td>\n",
       "      <td id=\"T_030a6_row2_col8\" class=\"data row2 col8\" >2.3070</td>\n",
       "    </tr>\n",
       "    <tr>\n",
       "      <th id=\"T_030a6_level0_row3\" class=\"row_heading level0 row3\" >rf</th>\n",
       "      <td id=\"T_030a6_row3_col0\" class=\"data row3 col0\" >Random Forest Classifier</td>\n",
       "      <td id=\"T_030a6_row3_col1\" class=\"data row3 col1\" >0.8109</td>\n",
       "      <td id=\"T_030a6_row3_col2\" class=\"data row3 col2\" >0.7726</td>\n",
       "      <td id=\"T_030a6_row3_col3\" class=\"data row3 col3\" >0.3747</td>\n",
       "      <td id=\"T_030a6_row3_col4\" class=\"data row3 col4\" >0.6422</td>\n",
       "      <td id=\"T_030a6_row3_col5\" class=\"data row3 col5\" >0.4732</td>\n",
       "      <td id=\"T_030a6_row3_col6\" class=\"data row3 col6\" >0.3676</td>\n",
       "      <td id=\"T_030a6_row3_col7\" class=\"data row3 col7\" >0.3874</td>\n",
       "      <td id=\"T_030a6_row3_col8\" class=\"data row3 col8\" >9.2550</td>\n",
       "    </tr>\n",
       "    <tr>\n",
       "      <th id=\"T_030a6_level0_row4\" class=\"row_heading level0 row4\" >et</th>\n",
       "      <td id=\"T_030a6_row4_col0\" class=\"data row4 col0\" >Extra Trees Classifier</td>\n",
       "      <td id=\"T_030a6_row4_col1\" class=\"data row4 col1\" >0.8102</td>\n",
       "      <td id=\"T_030a6_row4_col2\" class=\"data row4 col2\" >0.7721</td>\n",
       "      <td id=\"T_030a6_row4_col3\" class=\"data row4 col3\" >0.3719</td>\n",
       "      <td id=\"T_030a6_row4_col4\" class=\"data row4 col4\" >0.6400</td>\n",
       "      <td id=\"T_030a6_row4_col5\" class=\"data row4 col5\" >0.4704</td>\n",
       "      <td id=\"T_030a6_row4_col6\" class=\"data row4 col6\" >0.3645</td>\n",
       "      <td id=\"T_030a6_row4_col7\" class=\"data row4 col7\" >0.3845</td>\n",
       "      <td id=\"T_030a6_row4_col8\" class=\"data row4 col8\" >5.6690</td>\n",
       "    </tr>\n",
       "    <tr>\n",
       "      <th id=\"T_030a6_level0_row5\" class=\"row_heading level0 row5\" >xgboost</th>\n",
       "      <td id=\"T_030a6_row5_col0\" class=\"data row5 col0\" >Extreme Gradient Boosting</td>\n",
       "      <td id=\"T_030a6_row5_col1\" class=\"data row5 col1\" >0.8100</td>\n",
       "      <td id=\"T_030a6_row5_col2\" class=\"data row5 col2\" >0.7794</td>\n",
       "      <td id=\"T_030a6_row5_col3\" class=\"data row5 col3\" >0.3783</td>\n",
       "      <td id=\"T_030a6_row5_col4\" class=\"data row5 col4\" >0.6358</td>\n",
       "      <td id=\"T_030a6_row5_col5\" class=\"data row5 col5\" >0.4743</td>\n",
       "      <td id=\"T_030a6_row5_col6\" class=\"data row5 col6\" >0.3674</td>\n",
       "      <td id=\"T_030a6_row5_col7\" class=\"data row5 col7\" >0.3858</td>\n",
       "      <td id=\"T_030a6_row5_col8\" class=\"data row5 col8\" >0.7060</td>\n",
       "    </tr>\n",
       "    <tr>\n",
       "      <th id=\"T_030a6_level0_row6\" class=\"row_heading level0 row6\" >lda</th>\n",
       "      <td id=\"T_030a6_row6_col0\" class=\"data row6 col0\" >Linear Discriminant Analysis</td>\n",
       "      <td id=\"T_030a6_row6_col1\" class=\"data row6 col1\" >0.8040</td>\n",
       "      <td id=\"T_030a6_row6_col2\" class=\"data row6 col2\" >0.7768</td>\n",
       "      <td id=\"T_030a6_row6_col3\" class=\"data row6 col3\" >0.2348</td>\n",
       "      <td id=\"T_030a6_row6_col4\" class=\"data row6 col4\" >0.7022</td>\n",
       "      <td id=\"T_030a6_row6_col5\" class=\"data row6 col5\" >0.3518</td>\n",
       "      <td id=\"T_030a6_row6_col6\" class=\"data row6 col6\" >0.2688</td>\n",
       "      <td id=\"T_030a6_row6_col7\" class=\"data row6 col7\" >0.3252</td>\n",
       "      <td id=\"T_030a6_row6_col8\" class=\"data row6 col8\" >0.1740</td>\n",
       "    </tr>\n",
       "    <tr>\n",
       "      <th id=\"T_030a6_level0_row7\" class=\"row_heading level0 row7\" >lr</th>\n",
       "      <td id=\"T_030a6_row7_col0\" class=\"data row7 col0\" >Logistic Regression</td>\n",
       "      <td id=\"T_030a6_row7_col1\" class=\"data row7 col1\" >0.8009</td>\n",
       "      <td id=\"T_030a6_row7_col2\" class=\"data row7 col2\" >0.6841</td>\n",
       "      <td id=\"T_030a6_row7_col3\" class=\"data row7 col3\" >0.2688</td>\n",
       "      <td id=\"T_030a6_row7_col4\" class=\"data row7 col4\" >0.6464</td>\n",
       "      <td id=\"T_030a6_row7_col5\" class=\"data row7 col5\" >0.3797</td>\n",
       "      <td id=\"T_030a6_row7_col6\" class=\"data row7 col6\" >0.2844</td>\n",
       "      <td id=\"T_030a6_row7_col7\" class=\"data row7 col7\" >0.3234</td>\n",
       "      <td id=\"T_030a6_row7_col8\" class=\"data row7 col8\" >1.4880</td>\n",
       "    </tr>\n",
       "    <tr>\n",
       "      <th id=\"T_030a6_level0_row8\" class=\"row_heading level0 row8\" >nb</th>\n",
       "      <td id=\"T_030a6_row8_col0\" class=\"data row8 col0\" >Naive Bayes</td>\n",
       "      <td id=\"T_030a6_row8_col1\" class=\"data row8 col1\" >0.8003</td>\n",
       "      <td id=\"T_030a6_row8_col2\" class=\"data row8 col2\" >0.7698</td>\n",
       "      <td id=\"T_030a6_row8_col3\" class=\"data row8 col3\" >0.2353</td>\n",
       "      <td id=\"T_030a6_row8_col4\" class=\"data row8 col4\" >0.6693</td>\n",
       "      <td id=\"T_030a6_row8_col5\" class=\"data row8 col5\" >0.3481</td>\n",
       "      <td id=\"T_030a6_row8_col6\" class=\"data row8 col6\" >0.2609</td>\n",
       "      <td id=\"T_030a6_row8_col7\" class=\"data row8 col7\" >0.3110</td>\n",
       "      <td id=\"T_030a6_row8_col8\" class=\"data row8 col8\" >0.0750</td>\n",
       "    </tr>\n",
       "    <tr>\n",
       "      <th id=\"T_030a6_level0_row9\" class=\"row_heading level0 row9\" >qda</th>\n",
       "      <td id=\"T_030a6_row9_col0\" class=\"data row9 col0\" >Quadratic Discriminant Analysis</td>\n",
       "      <td id=\"T_030a6_row9_col1\" class=\"data row9 col1\" >0.7987</td>\n",
       "      <td id=\"T_030a6_row9_col2\" class=\"data row9 col2\" >0.7623</td>\n",
       "      <td id=\"T_030a6_row9_col3\" class=\"data row9 col3\" >0.2312</td>\n",
       "      <td id=\"T_030a6_row9_col4\" class=\"data row9 col4\" >0.6594</td>\n",
       "      <td id=\"T_030a6_row9_col5\" class=\"data row9 col5\" >0.3422</td>\n",
       "      <td id=\"T_030a6_row9_col6\" class=\"data row9 col6\" >0.2545</td>\n",
       "      <td id=\"T_030a6_row9_col7\" class=\"data row9 col7\" >0.3036</td>\n",
       "      <td id=\"T_030a6_row9_col8\" class=\"data row9 col8\" >0.1010</td>\n",
       "    </tr>\n",
       "    <tr>\n",
       "      <th id=\"T_030a6_level0_row10\" class=\"row_heading level0 row10\" >ridge</th>\n",
       "      <td id=\"T_030a6_row10_col0\" class=\"data row10 col0\" >Ridge Classifier</td>\n",
       "      <td id=\"T_030a6_row10_col1\" class=\"data row10 col1\" >0.7974</td>\n",
       "      <td id=\"T_030a6_row10_col2\" class=\"data row10 col2\" >0.0000</td>\n",
       "      <td id=\"T_030a6_row10_col3\" class=\"data row10 col3\" >0.1775</td>\n",
       "      <td id=\"T_030a6_row10_col4\" class=\"data row10 col4\" >0.7141</td>\n",
       "      <td id=\"T_030a6_row10_col5\" class=\"data row10 col5\" >0.2842</td>\n",
       "      <td id=\"T_030a6_row10_col6\" class=\"data row10 col6\" >0.2132</td>\n",
       "      <td id=\"T_030a6_row10_col7\" class=\"data row10 col7\" >0.2843</td>\n",
       "      <td id=\"T_030a6_row10_col8\" class=\"data row10 col8\" >0.0840</td>\n",
       "    </tr>\n",
       "    <tr>\n",
       "      <th id=\"T_030a6_level0_row11\" class=\"row_heading level0 row11\" >knn</th>\n",
       "      <td id=\"T_030a6_row11_col0\" class=\"data row11 col0\" >K Neighbors Classifier</td>\n",
       "      <td id=\"T_030a6_row11_col1\" class=\"data row11 col1\" >0.7791</td>\n",
       "      <td id=\"T_030a6_row11_col2\" class=\"data row11 col2\" >0.6972</td>\n",
       "      <td id=\"T_030a6_row11_col3\" class=\"data row11 col3\" >0.3311</td>\n",
       "      <td id=\"T_030a6_row11_col4\" class=\"data row11 col4\" >0.5199</td>\n",
       "      <td id=\"T_030a6_row11_col5\" class=\"data row11 col5\" >0.4045</td>\n",
       "      <td id=\"T_030a6_row11_col6\" class=\"data row11 col6\" >0.2770</td>\n",
       "      <td id=\"T_030a6_row11_col7\" class=\"data row11 col7\" >0.2876</td>\n",
       "      <td id=\"T_030a6_row11_col8\" class=\"data row11 col8\" >2.2500</td>\n",
       "    </tr>\n",
       "    <tr>\n",
       "      <th id=\"T_030a6_level0_row12\" class=\"row_heading level0 row12\" >dummy</th>\n",
       "      <td id=\"T_030a6_row12_col0\" class=\"data row12 col0\" >Dummy Classifier</td>\n",
       "      <td id=\"T_030a6_row12_col1\" class=\"data row12 col1\" >0.7734</td>\n",
       "      <td id=\"T_030a6_row12_col2\" class=\"data row12 col2\" >0.5000</td>\n",
       "      <td id=\"T_030a6_row12_col3\" class=\"data row12 col3\" >0.0000</td>\n",
       "      <td id=\"T_030a6_row12_col4\" class=\"data row12 col4\" >0.0000</td>\n",
       "      <td id=\"T_030a6_row12_col5\" class=\"data row12 col5\" >0.0000</td>\n",
       "      <td id=\"T_030a6_row12_col6\" class=\"data row12 col6\" >0.0000</td>\n",
       "      <td id=\"T_030a6_row12_col7\" class=\"data row12 col7\" >0.0000</td>\n",
       "      <td id=\"T_030a6_row12_col8\" class=\"data row12 col8\" >0.0790</td>\n",
       "    </tr>\n",
       "    <tr>\n",
       "      <th id=\"T_030a6_level0_row13\" class=\"row_heading level0 row13\" >dt</th>\n",
       "      <td id=\"T_030a6_row13_col0\" class=\"data row13 col0\" >Decision Tree Classifier</td>\n",
       "      <td id=\"T_030a6_row13_col1\" class=\"data row13 col1\" >0.7218</td>\n",
       "      <td id=\"T_030a6_row13_col2\" class=\"data row13 col2\" >0.6127</td>\n",
       "      <td id=\"T_030a6_row13_col3\" class=\"data row13 col3\" >0.4132</td>\n",
       "      <td id=\"T_030a6_row13_col4\" class=\"data row13 col4\" >0.3922</td>\n",
       "      <td id=\"T_030a6_row13_col5\" class=\"data row13 col5\" >0.4024</td>\n",
       "      <td id=\"T_030a6_row13_col6\" class=\"data row13 col6\" >0.2212</td>\n",
       "      <td id=\"T_030a6_row13_col7\" class=\"data row13 col7\" >0.2214</td>\n",
       "      <td id=\"T_030a6_row13_col8\" class=\"data row13 col8\" >0.7890</td>\n",
       "    </tr>\n",
       "    <tr>\n",
       "      <th id=\"T_030a6_level0_row14\" class=\"row_heading level0 row14\" >svm</th>\n",
       "      <td id=\"T_030a6_row14_col0\" class=\"data row14 col0\" >SVM - Linear Kernel</td>\n",
       "      <td id=\"T_030a6_row14_col1\" class=\"data row14 col1\" >0.6875</td>\n",
       "      <td id=\"T_030a6_row14_col2\" class=\"data row14 col2\" >0.0000</td>\n",
       "      <td id=\"T_030a6_row14_col3\" class=\"data row14 col3\" >0.4094</td>\n",
       "      <td id=\"T_030a6_row14_col4\" class=\"data row14 col4\" >0.4027</td>\n",
       "      <td id=\"T_030a6_row14_col5\" class=\"data row14 col5\" >0.3775</td>\n",
       "      <td id=\"T_030a6_row14_col6\" class=\"data row14 col6\" >0.1863</td>\n",
       "      <td id=\"T_030a6_row14_col7\" class=\"data row14 col7\" >0.1922</td>\n",
       "      <td id=\"T_030a6_row14_col8\" class=\"data row14 col8\" >0.1830</td>\n",
       "    </tr>\n",
       "    <tr>\n",
       "      <th id=\"T_030a6_level0_row15\" class=\"row_heading level0 row15\" >catboost</th>\n",
       "      <td id=\"T_030a6_row15_col0\" class=\"data row15 col0\" >CatBoost Classifier</td>\n",
       "      <td id=\"T_030a6_row15_col1\" class=\"data row15 col1\" >0.0000</td>\n",
       "      <td id=\"T_030a6_row15_col2\" class=\"data row15 col2\" >0.7891</td>\n",
       "      <td id=\"T_030a6_row15_col3\" class=\"data row15 col3\" >0.0000</td>\n",
       "      <td id=\"T_030a6_row15_col4\" class=\"data row15 col4\" >0.0000</td>\n",
       "      <td id=\"T_030a6_row15_col5\" class=\"data row15 col5\" >0.0000</td>\n",
       "      <td id=\"T_030a6_row15_col6\" class=\"data row15 col6\" >0.0000</td>\n",
       "      <td id=\"T_030a6_row15_col7\" class=\"data row15 col7\" >0.0000</td>\n",
       "      <td id=\"T_030a6_row15_col8\" class=\"data row15 col8\" >17.2300</td>\n",
       "    </tr>\n",
       "  </tbody>\n",
       "</table>\n"
      ],
      "text/plain": [
       "<pandas.io.formats.style.Styler at 0x7a97cd88e140>"
      ]
     },
     "metadata": {},
     "output_type": "display_data"
    },
    {
     "data": {
      "application/vnd.jupyter.widget-view+json": {
       "model_id": "",
       "version_major": 2,
       "version_minor": 0
      },
      "text/plain": [
       "Processing:   0%|          | 0/69 [00:00<?, ?it/s]"
      ]
     },
     "metadata": {},
     "output_type": "display_data"
    },
    {
     "data": {
      "text/html": [
       "<style>#sk-container-id-1 {color: black;background-color: white;}#sk-container-id-1 pre{padding: 0;}#sk-container-id-1 div.sk-toggleable {background-color: white;}#sk-container-id-1 label.sk-toggleable__label {cursor: pointer;display: block;width: 100%;margin-bottom: 0;padding: 0.3em;box-sizing: border-box;text-align: center;}#sk-container-id-1 label.sk-toggleable__label-arrow:before {content: \"▸\";float: left;margin-right: 0.25em;color: #696969;}#sk-container-id-1 label.sk-toggleable__label-arrow:hover:before {color: black;}#sk-container-id-1 div.sk-estimator:hover label.sk-toggleable__label-arrow:before {color: black;}#sk-container-id-1 div.sk-toggleable__content {max-height: 0;max-width: 0;overflow: hidden;text-align: left;background-color: #f0f8ff;}#sk-container-id-1 div.sk-toggleable__content pre {margin: 0.2em;color: black;border-radius: 0.25em;background-color: #f0f8ff;}#sk-container-id-1 input.sk-toggleable__control:checked~div.sk-toggleable__content {max-height: 200px;max-width: 100%;overflow: auto;}#sk-container-id-1 input.sk-toggleable__control:checked~label.sk-toggleable__label-arrow:before {content: \"▾\";}#sk-container-id-1 div.sk-estimator input.sk-toggleable__control:checked~label.sk-toggleable__label {background-color: #d4ebff;}#sk-container-id-1 div.sk-label input.sk-toggleable__control:checked~label.sk-toggleable__label {background-color: #d4ebff;}#sk-container-id-1 input.sk-hidden--visually {border: 0;clip: rect(1px 1px 1px 1px);clip: rect(1px, 1px, 1px, 1px);height: 1px;margin: -1px;overflow: hidden;padding: 0;position: absolute;width: 1px;}#sk-container-id-1 div.sk-estimator {font-family: monospace;background-color: #f0f8ff;border: 1px dotted black;border-radius: 0.25em;box-sizing: border-box;margin-bottom: 0.5em;}#sk-container-id-1 div.sk-estimator:hover {background-color: #d4ebff;}#sk-container-id-1 div.sk-parallel-item::after {content: \"\";width: 100%;border-bottom: 1px solid gray;flex-grow: 1;}#sk-container-id-1 div.sk-label:hover label.sk-toggleable__label {background-color: #d4ebff;}#sk-container-id-1 div.sk-serial::before {content: \"\";position: absolute;border-left: 1px solid gray;box-sizing: border-box;top: 0;bottom: 0;left: 50%;z-index: 0;}#sk-container-id-1 div.sk-serial {display: flex;flex-direction: column;align-items: center;background-color: white;padding-right: 0.2em;padding-left: 0.2em;position: relative;}#sk-container-id-1 div.sk-item {position: relative;z-index: 1;}#sk-container-id-1 div.sk-parallel {display: flex;align-items: stretch;justify-content: center;background-color: white;position: relative;}#sk-container-id-1 div.sk-item::before, #sk-container-id-1 div.sk-parallel-item::before {content: \"\";position: absolute;border-left: 1px solid gray;box-sizing: border-box;top: 0;bottom: 0;left: 50%;z-index: -1;}#sk-container-id-1 div.sk-parallel-item {display: flex;flex-direction: column;z-index: 1;position: relative;background-color: white;}#sk-container-id-1 div.sk-parallel-item:first-child::after {align-self: flex-end;width: 50%;}#sk-container-id-1 div.sk-parallel-item:last-child::after {align-self: flex-start;width: 50%;}#sk-container-id-1 div.sk-parallel-item:only-child::after {width: 0;}#sk-container-id-1 div.sk-dashed-wrapped {border: 1px dashed gray;margin: 0 0.4em 0.5em 0.4em;box-sizing: border-box;padding-bottom: 0.4em;background-color: white;}#sk-container-id-1 div.sk-label label {font-family: monospace;font-weight: bold;display: inline-block;line-height: 1.2em;}#sk-container-id-1 div.sk-label-container {text-align: center;}#sk-container-id-1 div.sk-container {/* jupyter's `normalize.less` sets `[hidden] { display: none; }` but bootstrap.min.css set `[hidden] { display: none !important; }` so we also need the `!important` here to be able to override the default hidden behavior on the sphinx rendered scikit-learn.org. See: https://github.com/scikit-learn/scikit-learn/issues/21755 */display: inline-block !important;position: relative;}#sk-container-id-1 div.sk-text-repr-fallback {display: none;}</style><div id=\"sk-container-id-1\" class=\"sk-top-container\"><div class=\"sk-text-repr-fallback\"><pre>GradientBoostingClassifier(ccp_alpha=0.0, criterion=&#x27;friedman_mse&#x27;, init=None,\n",
       "                           learning_rate=0.1, loss=&#x27;log_loss&#x27;, max_depth=3,\n",
       "                           max_features=None, max_leaf_nodes=None,\n",
       "                           min_impurity_decrease=0.0, min_samples_leaf=1,\n",
       "                           min_samples_split=2, min_weight_fraction_leaf=0.0,\n",
       "                           n_estimators=100, n_iter_no_change=None,\n",
       "                           random_state=4822, subsample=1.0, tol=0.0001,\n",
       "                           validation_fraction=0.1, verbose=0,\n",
       "                           warm_start=False)</pre><b>In a Jupyter environment, please rerun this cell to show the HTML representation or trust the notebook. <br />On GitHub, the HTML representation is unable to render, please try loading this page with nbviewer.org.</b></div><div class=\"sk-container\" hidden><div class=\"sk-item\"><div class=\"sk-estimator sk-toggleable\"><input class=\"sk-toggleable__control sk-hidden--visually\" id=\"sk-estimator-id-1\" type=\"checkbox\" checked><label for=\"sk-estimator-id-1\" class=\"sk-toggleable__label sk-toggleable__label-arrow\">GradientBoostingClassifier</label><div class=\"sk-toggleable__content\"><pre>GradientBoostingClassifier(ccp_alpha=0.0, criterion=&#x27;friedman_mse&#x27;, init=None,\n",
       "                           learning_rate=0.1, loss=&#x27;log_loss&#x27;, max_depth=3,\n",
       "                           max_features=None, max_leaf_nodes=None,\n",
       "                           min_impurity_decrease=0.0, min_samples_leaf=1,\n",
       "                           min_samples_split=2, min_weight_fraction_leaf=0.0,\n",
       "                           n_estimators=100, n_iter_no_change=None,\n",
       "                           random_state=4822, subsample=1.0, tol=0.0001,\n",
       "                           validation_fraction=0.1, verbose=0,\n",
       "                           warm_start=False)</pre></div></div></div></div></div>"
      ],
      "text/plain": [
       "GradientBoostingClassifier(ccp_alpha=0.0, criterion='friedman_mse', init=None,\n",
       "                           learning_rate=0.1, loss='log_loss', max_depth=3,\n",
       "                           max_features=None, max_leaf_nodes=None,\n",
       "                           min_impurity_decrease=0.0, min_samples_leaf=1,\n",
       "                           min_samples_split=2, min_weight_fraction_leaf=0.0,\n",
       "                           n_estimators=100, n_iter_no_change=None,\n",
       "                           random_state=4822, subsample=1.0, tol=0.0001,\n",
       "                           validation_fraction=0.1, verbose=0,\n",
       "                           warm_start=False)"
      ]
     },
     "execution_count": 7,
     "metadata": {},
     "output_type": "execute_result"
    }
   ],
   "source": [
    "compare_models()"
   ]
  },
  {
   "cell_type": "code",
   "execution_count": 8,
   "metadata": {
    "execution": {
     "iopub.execute_input": "2023-12-14T15:34:06.026262Z",
     "iopub.status.busy": "2023-12-14T15:34:06.025873Z",
     "iopub.status.idle": "2023-12-14T15:36:52.059392Z",
     "shell.execute_reply": "2023-12-14T15:36:52.058272Z",
     "shell.execute_reply.started": "2023-12-14T15:34:06.026223Z"
    }
   },
   "outputs": [
    {
     "data": {
      "text/html": [],
      "text/plain": [
       "<IPython.core.display.HTML object>"
      ]
     },
     "metadata": {},
     "output_type": "display_data"
    },
    {
     "data": {
      "text/html": [
       "<style type=\"text/css\">\n",
       "#T_6a901_row10_col0, #T_6a901_row10_col1, #T_6a901_row10_col2, #T_6a901_row10_col3, #T_6a901_row10_col4, #T_6a901_row10_col5, #T_6a901_row10_col6 {\n",
       "  background: yellow;\n",
       "}\n",
       "</style>\n",
       "<table id=\"T_6a901\">\n",
       "  <thead>\n",
       "    <tr>\n",
       "      <th class=\"blank level0\" >&nbsp;</th>\n",
       "      <th id=\"T_6a901_level0_col0\" class=\"col_heading level0 col0\" >Accuracy</th>\n",
       "      <th id=\"T_6a901_level0_col1\" class=\"col_heading level0 col1\" >AUC</th>\n",
       "      <th id=\"T_6a901_level0_col2\" class=\"col_heading level0 col2\" >Recall</th>\n",
       "      <th id=\"T_6a901_level0_col3\" class=\"col_heading level0 col3\" >Prec.</th>\n",
       "      <th id=\"T_6a901_level0_col4\" class=\"col_heading level0 col4\" >F1</th>\n",
       "      <th id=\"T_6a901_level0_col5\" class=\"col_heading level0 col5\" >Kappa</th>\n",
       "      <th id=\"T_6a901_level0_col6\" class=\"col_heading level0 col6\" >MCC</th>\n",
       "    </tr>\n",
       "    <tr>\n",
       "      <th class=\"index_name level0\" >Fold</th>\n",
       "      <th class=\"blank col0\" >&nbsp;</th>\n",
       "      <th class=\"blank col1\" >&nbsp;</th>\n",
       "      <th class=\"blank col2\" >&nbsp;</th>\n",
       "      <th class=\"blank col3\" >&nbsp;</th>\n",
       "      <th class=\"blank col4\" >&nbsp;</th>\n",
       "      <th class=\"blank col5\" >&nbsp;</th>\n",
       "      <th class=\"blank col6\" >&nbsp;</th>\n",
       "    </tr>\n",
       "  </thead>\n",
       "  <tbody>\n",
       "    <tr>\n",
       "      <th id=\"T_6a901_level0_row0\" class=\"row_heading level0 row0\" >0</th>\n",
       "      <td id=\"T_6a901_row0_col0\" class=\"data row0 col0\" >0.8160</td>\n",
       "      <td id=\"T_6a901_row0_col1\" class=\"data row0 col1\" >0.7844</td>\n",
       "      <td id=\"T_6a901_row0_col2\" class=\"data row0 col2\" >0.3870</td>\n",
       "      <td id=\"T_6a901_row0_col3\" class=\"data row0 col3\" >0.6607</td>\n",
       "      <td id=\"T_6a901_row0_col4\" class=\"data row0 col4\" >0.4881</td>\n",
       "      <td id=\"T_6a901_row0_col5\" class=\"data row0 col5\" >0.3851</td>\n",
       "      <td id=\"T_6a901_row0_col6\" class=\"data row0 col6\" >0.4056</td>\n",
       "    </tr>\n",
       "    <tr>\n",
       "      <th id=\"T_6a901_level0_row1\" class=\"row_heading level0 row1\" >1</th>\n",
       "      <td id=\"T_6a901_row1_col0\" class=\"data row1 col0\" >0.8137</td>\n",
       "      <td id=\"T_6a901_row1_col1\" class=\"data row1 col1\" >0.7911</td>\n",
       "      <td id=\"T_6a901_row1_col2\" class=\"data row1 col2\" >0.3957</td>\n",
       "      <td id=\"T_6a901_row1_col3\" class=\"data row1 col3\" >0.6455</td>\n",
       "      <td id=\"T_6a901_row1_col4\" class=\"data row1 col4\" >0.4906</td>\n",
       "      <td id=\"T_6a901_row1_col5\" class=\"data row1 col5\" >0.3845</td>\n",
       "      <td id=\"T_6a901_row1_col6\" class=\"data row1 col6\" >0.4018</td>\n",
       "    </tr>\n",
       "    <tr>\n",
       "      <th id=\"T_6a901_level0_row2\" class=\"row_heading level0 row2\" >2</th>\n",
       "      <td id=\"T_6a901_row2_col0\" class=\"data row2 col0\" >0.8151</td>\n",
       "      <td id=\"T_6a901_row2_col1\" class=\"data row2 col1\" >0.7944</td>\n",
       "      <td id=\"T_6a901_row2_col2\" class=\"data row2 col2\" >0.3975</td>\n",
       "      <td id=\"T_6a901_row2_col3\" class=\"data row2 col3\" >0.6511</td>\n",
       "      <td id=\"T_6a901_row2_col4\" class=\"data row2 col4\" >0.4937</td>\n",
       "      <td id=\"T_6a901_row2_col5\" class=\"data row2 col5\" >0.3886</td>\n",
       "      <td id=\"T_6a901_row2_col6\" class=\"data row2 col6\" >0.4063</td>\n",
       "    </tr>\n",
       "    <tr>\n",
       "      <th id=\"T_6a901_level0_row3\" class=\"row_heading level0 row3\" >3</th>\n",
       "      <td id=\"T_6a901_row3_col0\" class=\"data row3 col0\" >0.8217</td>\n",
       "      <td id=\"T_6a901_row3_col1\" class=\"data row3 col1\" >0.7984</td>\n",
       "      <td id=\"T_6a901_row3_col2\" class=\"data row3 col2\" >0.4074</td>\n",
       "      <td id=\"T_6a901_row3_col3\" class=\"data row3 col3\" >0.6777</td>\n",
       "      <td id=\"T_6a901_row3_col4\" class=\"data row3 col4\" >0.5089</td>\n",
       "      <td id=\"T_6a901_row3_col5\" class=\"data row3 col5\" >0.4081</td>\n",
       "      <td id=\"T_6a901_row3_col6\" class=\"data row3 col6\" >0.4279</td>\n",
       "    </tr>\n",
       "    <tr>\n",
       "      <th id=\"T_6a901_level0_row4\" class=\"row_heading level0 row4\" >4</th>\n",
       "      <td id=\"T_6a901_row4_col0\" class=\"data row4 col0\" >0.8171</td>\n",
       "      <td id=\"T_6a901_row4_col1\" class=\"data row4 col1\" >0.7963</td>\n",
       "      <td id=\"T_6a901_row4_col2\" class=\"data row4 col2\" >0.3885</td>\n",
       "      <td id=\"T_6a901_row4_col3\" class=\"data row4 col3\" >0.6649</td>\n",
       "      <td id=\"T_6a901_row4_col4\" class=\"data row4 col4\" >0.4904</td>\n",
       "      <td id=\"T_6a901_row4_col5\" class=\"data row4 col5\" >0.3882</td>\n",
       "      <td id=\"T_6a901_row4_col6\" class=\"data row4 col6\" >0.4090</td>\n",
       "    </tr>\n",
       "    <tr>\n",
       "      <th id=\"T_6a901_level0_row5\" class=\"row_heading level0 row5\" >5</th>\n",
       "      <td id=\"T_6a901_row5_col0\" class=\"data row5 col0\" >0.8159</td>\n",
       "      <td id=\"T_6a901_row5_col1\" class=\"data row5 col1\" >0.7943</td>\n",
       "      <td id=\"T_6a901_row5_col2\" class=\"data row5 col2\" >0.3916</td>\n",
       "      <td id=\"T_6a901_row5_col3\" class=\"data row5 col3\" >0.6576</td>\n",
       "      <td id=\"T_6a901_row5_col4\" class=\"data row5 col4\" >0.4909</td>\n",
       "      <td id=\"T_6a901_row5_col5\" class=\"data row5 col5\" >0.3872</td>\n",
       "      <td id=\"T_6a901_row5_col6\" class=\"data row5 col6\" >0.4066</td>\n",
       "    </tr>\n",
       "    <tr>\n",
       "      <th id=\"T_6a901_level0_row6\" class=\"row_heading level0 row6\" >6</th>\n",
       "      <td id=\"T_6a901_row6_col0\" class=\"data row6 col0\" >0.8099</td>\n",
       "      <td id=\"T_6a901_row6_col1\" class=\"data row6 col1\" >0.7815</td>\n",
       "      <td id=\"T_6a901_row6_col2\" class=\"data row6 col2\" >0.3730</td>\n",
       "      <td id=\"T_6a901_row6_col3\" class=\"data row6 col3\" >0.6377</td>\n",
       "      <td id=\"T_6a901_row6_col4\" class=\"data row6 col4\" >0.4707</td>\n",
       "      <td id=\"T_6a901_row6_col5\" class=\"data row6 col5\" >0.3644</td>\n",
       "      <td id=\"T_6a901_row6_col6\" class=\"data row6 col6\" >0.3839</td>\n",
       "    </tr>\n",
       "    <tr>\n",
       "      <th id=\"T_6a901_level0_row7\" class=\"row_heading level0 row7\" >7</th>\n",
       "      <td id=\"T_6a901_row7_col0\" class=\"data row7 col0\" >0.8178</td>\n",
       "      <td id=\"T_6a901_row7_col1\" class=\"data row7 col1\" >0.7912</td>\n",
       "      <td id=\"T_6a901_row7_col2\" class=\"data row7 col2\" >0.3978</td>\n",
       "      <td id=\"T_6a901_row7_col3\" class=\"data row7 col3\" >0.6632</td>\n",
       "      <td id=\"T_6a901_row7_col4\" class=\"data row7 col4\" >0.4973</td>\n",
       "      <td id=\"T_6a901_row7_col5\" class=\"data row7 col5\" >0.3944</td>\n",
       "      <td id=\"T_6a901_row7_col6\" class=\"data row7 col6\" >0.4136</td>\n",
       "    </tr>\n",
       "    <tr>\n",
       "      <th id=\"T_6a901_level0_row8\" class=\"row_heading level0 row8\" >8</th>\n",
       "      <td id=\"T_6a901_row8_col0\" class=\"data row8 col0\" >0.8143</td>\n",
       "      <td id=\"T_6a901_row8_col1\" class=\"data row8 col1\" >0.7951</td>\n",
       "      <td id=\"T_6a901_row8_col2\" class=\"data row8 col2\" >0.3934</td>\n",
       "      <td id=\"T_6a901_row8_col3\" class=\"data row8 col3\" >0.6486</td>\n",
       "      <td id=\"T_6a901_row8_col4\" class=\"data row8 col4\" >0.4898</td>\n",
       "      <td id=\"T_6a901_row8_col5\" class=\"data row8 col5\" >0.3845</td>\n",
       "      <td id=\"T_6a901_row8_col6\" class=\"data row8 col6\" >0.4024</td>\n",
       "    </tr>\n",
       "    <tr>\n",
       "      <th id=\"T_6a901_level0_row9\" class=\"row_heading level0 row9\" >9</th>\n",
       "      <td id=\"T_6a901_row9_col0\" class=\"data row9 col0\" >0.8138</td>\n",
       "      <td id=\"T_6a901_row9_col1\" class=\"data row9 col1\" >0.7806</td>\n",
       "      <td id=\"T_6a901_row9_col2\" class=\"data row9 col2\" >0.3994</td>\n",
       "      <td id=\"T_6a901_row9_col3\" class=\"data row9 col3\" >0.6444</td>\n",
       "      <td id=\"T_6a901_row9_col4\" class=\"data row9 col4\" >0.4931</td>\n",
       "      <td id=\"T_6a901_row9_col5\" class=\"data row9 col5\" >0.3867</td>\n",
       "      <td id=\"T_6a901_row9_col6\" class=\"data row9 col6\" >0.4033</td>\n",
       "    </tr>\n",
       "    <tr>\n",
       "      <th id=\"T_6a901_level0_row10\" class=\"row_heading level0 row10\" >Mean</th>\n",
       "      <td id=\"T_6a901_row10_col0\" class=\"data row10 col0\" >0.8155</td>\n",
       "      <td id=\"T_6a901_row10_col1\" class=\"data row10 col1\" >0.7907</td>\n",
       "      <td id=\"T_6a901_row10_col2\" class=\"data row10 col2\" >0.3931</td>\n",
       "      <td id=\"T_6a901_row10_col3\" class=\"data row10 col3\" >0.6551</td>\n",
       "      <td id=\"T_6a901_row10_col4\" class=\"data row10 col4\" >0.4913</td>\n",
       "      <td id=\"T_6a901_row10_col5\" class=\"data row10 col5\" >0.3872</td>\n",
       "      <td id=\"T_6a901_row10_col6\" class=\"data row10 col6\" >0.4060</td>\n",
       "    </tr>\n",
       "    <tr>\n",
       "      <th id=\"T_6a901_level0_row11\" class=\"row_heading level0 row11\" >Std</th>\n",
       "      <td id=\"T_6a901_row11_col0\" class=\"data row11 col0\" >0.0029</td>\n",
       "      <td id=\"T_6a901_row11_col1\" class=\"data row11 col1\" >0.0060</td>\n",
       "      <td id=\"T_6a901_row11_col2\" class=\"data row11 col2\" >0.0087</td>\n",
       "      <td id=\"T_6a901_row11_col3\" class=\"data row11 col3\" >0.0113</td>\n",
       "      <td id=\"T_6a901_row11_col4\" class=\"data row11 col4\" >0.0089</td>\n",
       "      <td id=\"T_6a901_row11_col5\" class=\"data row11 col5\" >0.0102</td>\n",
       "      <td id=\"T_6a901_row11_col6\" class=\"data row11 col6\" >0.0104</td>\n",
       "    </tr>\n",
       "  </tbody>\n",
       "</table>\n"
      ],
      "text/plain": [
       "<pandas.io.formats.style.Styler at 0x7a979e253ac0>"
      ]
     },
     "metadata": {},
     "output_type": "display_data"
    },
    {
     "data": {
      "application/vnd.jupyter.widget-view+json": {
       "model_id": "",
       "version_major": 2,
       "version_minor": 0
      },
      "text/plain": [
       "Processing:   0%|          | 0/4 [00:00<?, ?it/s]"
      ]
     },
     "metadata": {},
     "output_type": "display_data"
    }
   ],
   "source": [
    "best_model=create_model('gbc')"
   ]
  },
  {
   "cell_type": "code",
   "execution_count": 9,
   "metadata": {
    "execution": {
     "iopub.execute_input": "2023-12-14T15:36:55.526056Z",
     "iopub.status.busy": "2023-12-14T15:36:55.525690Z",
     "iopub.status.idle": "2023-12-14T15:36:56.295435Z",
     "shell.execute_reply": "2023-12-14T15:36:56.294355Z",
     "shell.execute_reply.started": "2023-12-14T15:36:55.526027Z"
    }
   },
   "outputs": [
    {
     "data": {
      "text/html": [],
      "text/plain": [
       "<IPython.core.display.HTML object>"
      ]
     },
     "metadata": {},
     "output_type": "display_data"
    },
    {
     "data": {
      "image/png": "[encoded data removed]",
      "text/plain": [
       "<Figure size 800x500 with 1 Axes>"
      ]
     },
     "metadata": {},
     "output_type": "display_data"
    }
   ],
   "source": [
    "plot_model(best_model,plot='feature')"
   ]
  },
  {
   "cell_type": "code",
   "execution_count": 10,
   "metadata": {
    "execution": {
     "iopub.execute_input": "2023-12-14T15:38:17.625882Z",
     "iopub.status.busy": "2023-12-14T15:38:17.625471Z",
     "iopub.status.idle": "2023-12-14T15:38:17.631575Z",
     "shell.execute_reply": "2023-12-14T15:38:17.630269Z",
     "shell.execute_reply.started": "2023-12-14T15:38:17.625845Z"
    }
   },
   "outputs": [],
   "source": [
    "#BURAYA KADAR AUTO ML İLE ÇÖZDÜK VE %81,55 ORANINDA DORU TAHMİN ELDE ETTİK\n",
    "#DEEP LEARNİNG İLE DE ÇÖZMEYE ÇALIŞALIM"
   ]
  },
  {
   "cell_type": "code",
   "execution_count": 12,
   "metadata": {
    "execution": {
     "iopub.execute_input": "2023-12-14T15:38:42.760919Z",
     "iopub.status.busy": "2023-12-14T15:38:42.760516Z",
     "iopub.status.idle": "2023-12-14T15:38:42.780423Z",
     "shell.execute_reply": "2023-12-14T15:38:42.779104Z",
     "shell.execute_reply.started": "2023-12-14T15:38:42.760886Z"
    }
   },
   "outputs": [
    {
     "name": "stdout",
     "output_type": "stream",
     "text": [
      "<class 'pandas.core.frame.DataFrame'>\n",
      "RangeIndex: 101763 entries, 0 to 101762\n",
      "Data columns (total 23 columns):\n",
      " #   Column             Non-Null Count   Dtype  \n",
      "---  ------             --------------   -----  \n",
      " 0   id                 101763 non-null  int64  \n",
      " 1   loc                101763 non-null  float64\n",
      " 2   v(g)               101763 non-null  float64\n",
      " 3   ev(g)              101763 non-null  float64\n",
      " 4   iv(g)              101763 non-null  float64\n",
      " 5   n                  101763 non-null  float64\n",
      " 6   v                  101763 non-null  float64\n",
      " 7   l                  101763 non-null  float64\n",
      " 8   d                  101763 non-null  float64\n",
      " 9   i                  101763 non-null  float64\n",
      " 10  e                  101763 non-null  float64\n",
      " 11  b                  101763 non-null  float64\n",
      " 12  t                  101763 non-null  float64\n",
      " 13  lOCode             101763 non-null  int64  \n",
      " 14  lOComment          101763 non-null  int64  \n",
      " 15  lOBlank            101763 non-null  int64  \n",
      " 16  locCodeAndComment  101763 non-null  int64  \n",
      " 17  uniq_Op            101763 non-null  float64\n",
      " 18  uniq_Opnd          101763 non-null  float64\n",
      " 19  total_Op           101763 non-null  float64\n",
      " 20  total_Opnd         101763 non-null  float64\n",
      " 21  branchCount        101763 non-null  float64\n",
      " 22  defects            101763 non-null  bool   \n",
      "dtypes: bool(1), float64(17), int64(5)\n",
      "memory usage: 17.2 MB\n"
     ]
    }
   ],
   "source": [
    "df.info()"
   ]
  },
  {
   "cell_type": "code",
   "execution_count": 14,
   "metadata": {
    "execution": {
     "iopub.execute_input": "2023-12-14T15:39:52.302308Z",
     "iopub.status.busy": "2023-12-14T15:39:52.301909Z",
     "iopub.status.idle": "2023-12-14T15:39:52.312257Z",
     "shell.execute_reply": "2023-12-14T15:39:52.311065Z",
     "shell.execute_reply.started": "2023-12-14T15:39:52.302255Z"
    }
   },
   "outputs": [],
   "source": [
    "x=df.drop('defects',axis=1)\n",
    "y=df['defects']"
   ]
  },
  {
   "cell_type": "code",
   "execution_count": 16,
   "metadata": {
    "execution": {
     "iopub.execute_input": "2023-12-14T15:40:35.882136Z",
     "iopub.status.busy": "2023-12-14T15:40:35.881718Z",
     "iopub.status.idle": "2023-12-14T15:40:35.890656Z",
     "shell.execute_reply": "2023-12-14T15:40:35.889755Z",
     "shell.execute_reply.started": "2023-12-14T15:40:35.882102Z"
    }
   },
   "outputs": [
    {
     "data": {
      "text/plain": [
       "array([False,  True])"
      ]
     },
     "execution_count": 16,
     "metadata": {},
     "output_type": "execute_result"
    }
   ],
   "source": [
    "df[\"defects\"].unique()"
   ]
  },
  {
   "cell_type": "code",
   "execution_count": 15,
   "metadata": {
    "execution": {
     "iopub.execute_input": "2023-12-14T15:40:03.537897Z",
     "iopub.status.busy": "2023-12-14T15:40:03.537523Z",
     "iopub.status.idle": "2023-12-14T15:40:15.374666Z",
     "shell.execute_reply": "2023-12-14T15:40:15.373509Z",
     "shell.execute_reply.started": "2023-12-14T15:40:03.537869Z"
    }
   },
   "outputs": [],
   "source": [
    "import tensorflow as tf"
   ]
  },
  {
   "cell_type": "code",
   "execution_count": 23,
   "metadata": {
    "execution": {
     "iopub.execute_input": "2023-12-14T15:49:14.740695Z",
     "iopub.status.busy": "2023-12-14T15:49:14.740231Z",
     "iopub.status.idle": "2023-12-14T15:49:14.746443Z",
     "shell.execute_reply": "2023-12-14T15:49:14.745161Z",
     "shell.execute_reply.started": "2023-12-14T15:49:14.740659Z"
    }
   },
   "outputs": [],
   "source": [
    "from tensorflow.keras.models import Sequential\n",
    "from tensorflow.keras.layers import Dense"
   ]
  },
  {
   "cell_type": "code",
   "execution_count": 24,
   "metadata": {
    "execution": {
     "iopub.execute_input": "2023-12-14T15:49:18.072078Z",
     "iopub.status.busy": "2023-12-14T15:49:18.071673Z",
     "iopub.status.idle": "2023-12-14T15:49:18.105550Z",
     "shell.execute_reply": "2023-12-14T15:49:18.104375Z",
     "shell.execute_reply.started": "2023-12-14T15:49:18.072047Z"
    }
   },
   "outputs": [],
   "source": [
    "model=Sequential()\n",
    "model.add(Dense(8,activation='relu')) #sütun sayısı 8 olduğu için 8 ie başladık.8 nörona bağladık demektir\n",
    "model.add(Dense(120,activation='relu')) #120 nörona bağladık\n",
    "model.add(Dense(64,activation='relu'))\n",
    "model.add(Dense(6,activation='relu'))\n",
    "model.add(Dense(2,activation='relu'))\n",
    "model.add(Dense(1,activation='sigmoid')) #sigmoid = sonucu 1 veya 0 olacağı için bu aktivasyon kodu kullandık\n",
    "model.compile(loss='binary_crossentropy', optimizer='adam', metrics='accuracy')\n",
    "\n",
    "#entropy=kaos\n",
    "#adam= fonksiyon  duruma göre atacağı adımları ayarlıyor\n",
    "#accuracy= classification da başarı oranı\n",
    "#r2=rgression da başarı oranı\n",
    "#siluette score= clustring başarı oranı\n",
    "#loss=gerçek değer ile tahmin edilen arasındaki fark büyükse bu katsayıları update ederek hatayı 0 a  eşitlemeye çalışıyor\n",
    "\n",
    "# autokeras.com ile hepsni otomatik olarak kendi yapıyor"
   ]
  },
  {
   "cell_type": "code",
   "execution_count": 29,
   "metadata": {
    "execution": {
     "iopub.execute_input": "2023-12-14T15:52:52.662703Z",
     "iopub.status.busy": "2023-12-14T15:52:52.661498Z",
     "iopub.status.idle": "2023-12-14T16:02:34.652430Z",
     "shell.execute_reply": "2023-12-14T16:02:34.651177Z",
     "shell.execute_reply.started": "2023-12-14T15:52:52.662662Z"
    }
   },
   "outputs": [
    {
     "name": "stdout",
     "output_type": "stream",
     "text": [
      "Epoch 1/100\n",
      "2545/2545 [==============================] - 6s 2ms/step - loss: 0.5345 - accuracy: 0.7740 - val_loss: 0.5383 - val_accuracy: 0.7709\n",
      "Epoch 2/100\n",
      "2545/2545 [==============================] - 6s 2ms/step - loss: 0.5345 - accuracy: 0.7740 - val_loss: 0.5382 - val_accuracy: 0.7709\n",
      "Epoch 3/100\n",
      "2545/2545 [==============================] - 6s 2ms/step - loss: 0.5345 - accuracy: 0.7740 - val_loss: 0.5382 - val_accuracy: 0.7709\n",
      "Epoch 4/100\n",
      "2545/2545 [==============================] - 6s 2ms/step - loss: 0.5345 - accuracy: 0.7740 - val_loss: 0.5382 - val_accuracy: 0.7709\n",
      "Epoch 5/100\n",
      "2545/2545 [==============================] - 6s 2ms/step - loss: 0.5345 - accuracy: 0.7740 - val_loss: 0.5382 - val_accuracy: 0.7709\n",
      "Epoch 6/100\n",
      "2545/2545 [==============================] - 6s 2ms/step - loss: 0.5345 - accuracy: 0.7740 - val_loss: 0.5383 - val_accuracy: 0.7709\n",
      "Epoch 7/100\n",
      "2545/2545 [==============================] - 6s 2ms/step - loss: 0.5345 - accuracy: 0.7740 - val_loss: 0.5382 - val_accuracy: 0.7709\n",
      "Epoch 8/100\n",
      "2545/2545 [==============================] - 6s 2ms/step - loss: 0.5345 - accuracy: 0.7740 - val_loss: 0.5382 - val_accuracy: 0.7709\n",
      "Epoch 9/100\n",
      "2545/2545 [==============================] - 6s 2ms/step - loss: 0.5345 - accuracy: 0.7740 - val_loss: 0.5382 - val_accuracy: 0.7709\n",
      "Epoch 10/100\n",
      "2545/2545 [==============================] - 6s 2ms/step - loss: 0.5345 - accuracy: 0.7740 - val_loss: 0.5382 - val_accuracy: 0.7709\n",
      "Epoch 11/100\n",
      "2545/2545 [==============================] - 6s 2ms/step - loss: 0.5345 - accuracy: 0.7740 - val_loss: 0.5382 - val_accuracy: 0.7709\n",
      "Epoch 12/100\n",
      "2545/2545 [==============================] - 6s 2ms/step - loss: 0.5344 - accuracy: 0.7740 - val_loss: 0.5382 - val_accuracy: 0.7709\n",
      "Epoch 13/100\n",
      "2545/2545 [==============================] - 6s 2ms/step - loss: 0.5345 - accuracy: 0.7740 - val_loss: 0.5382 - val_accuracy: 0.7709\n",
      "Epoch 14/100\n",
      "2545/2545 [==============================] - 6s 2ms/step - loss: 0.5345 - accuracy: 0.7740 - val_loss: 0.5383 - val_accuracy: 0.7709\n",
      "Epoch 15/100\n",
      "2545/2545 [==============================] - 6s 2ms/step - loss: 0.5345 - accuracy: 0.7740 - val_loss: 0.5382 - val_accuracy: 0.7709\n",
      "Epoch 16/100\n",
      "2545/2545 [==============================] - 6s 2ms/step - loss: 0.5345 - accuracy: 0.7740 - val_loss: 0.5382 - val_accuracy: 0.7709\n",
      "Epoch 17/100\n",
      "2545/2545 [==============================] - 6s 2ms/step - loss: 0.5345 - accuracy: 0.7740 - val_loss: 0.5382 - val_accuracy: 0.7709\n",
      "Epoch 18/100\n",
      "2545/2545 [==============================] - 6s 2ms/step - loss: 0.5345 - accuracy: 0.7740 - val_loss: 0.5382 - val_accuracy: 0.7709\n",
      "Epoch 19/100\n",
      "2545/2545 [==============================] - 6s 2ms/step - loss: 0.5344 - accuracy: 0.7740 - val_loss: 0.5382 - val_accuracy: 0.7709\n",
      "Epoch 20/100\n",
      "2545/2545 [==============================] - 6s 2ms/step - loss: 0.5345 - accuracy: 0.7740 - val_loss: 0.5382 - val_accuracy: 0.7709\n",
      "Epoch 21/100\n",
      "2545/2545 [==============================] - 6s 2ms/step - loss: 0.5345 - accuracy: 0.7740 - val_loss: 0.5382 - val_accuracy: 0.7709\n",
      "Epoch 22/100\n",
      "2545/2545 [==============================] - 6s 2ms/step - loss: 0.5345 - accuracy: 0.7740 - val_loss: 0.5382 - val_accuracy: 0.7709\n",
      "Epoch 23/100\n",
      "2545/2545 [==============================] - 6s 2ms/step - loss: 0.5345 - accuracy: 0.7740 - val_loss: 0.5382 - val_accuracy: 0.7709\n",
      "Epoch 24/100\n",
      "2545/2545 [==============================] - 6s 2ms/step - loss: 0.5345 - accuracy: 0.7740 - val_loss: 0.5382 - val_accuracy: 0.7709\n",
      "Epoch 25/100\n",
      "2545/2545 [==============================] - 6s 2ms/step - loss: 0.5345 - accuracy: 0.7740 - val_loss: 0.5382 - val_accuracy: 0.7709\n",
      "Epoch 26/100\n",
      "2545/2545 [==============================] - 6s 2ms/step - loss: 0.5345 - accuracy: 0.7740 - val_loss: 0.5382 - val_accuracy: 0.7709\n",
      "Epoch 27/100\n",
      "2545/2545 [==============================] - 6s 2ms/step - loss: 0.5345 - accuracy: 0.7740 - val_loss: 0.5382 - val_accuracy: 0.7709\n",
      "Epoch 28/100\n",
      "2545/2545 [==============================] - 6s 2ms/step - loss: 0.5345 - accuracy: 0.7740 - val_loss: 0.5382 - val_accuracy: 0.7709\n",
      "Epoch 29/100\n",
      "2545/2545 [==============================] - 5s 2ms/step - loss: 0.5345 - accuracy: 0.7740 - val_loss: 0.5382 - val_accuracy: 0.7709\n",
      "Epoch 30/100\n",
      "2545/2545 [==============================] - 6s 2ms/step - loss: 0.5345 - accuracy: 0.7740 - val_loss: 0.5382 - val_accuracy: 0.7709\n",
      "Epoch 31/100\n",
      "2545/2545 [==============================] - 6s 2ms/step - loss: 0.5344 - accuracy: 0.7740 - val_loss: 0.5383 - val_accuracy: 0.7709\n",
      "Epoch 32/100\n",
      "2545/2545 [==============================] - 6s 2ms/step - loss: 0.5345 - accuracy: 0.7740 - val_loss: 0.5383 - val_accuracy: 0.7709\n",
      "Epoch 33/100\n",
      "2545/2545 [==============================] - 6s 2ms/step - loss: 0.5345 - accuracy: 0.7740 - val_loss: 0.5382 - val_accuracy: 0.7709\n",
      "Epoch 34/100\n",
      "2545/2545 [==============================] - 6s 2ms/step - loss: 0.5345 - accuracy: 0.7740 - val_loss: 0.5382 - val_accuracy: 0.7709\n",
      "Epoch 35/100\n",
      "2545/2545 [==============================] - 5s 2ms/step - loss: 0.5345 - accuracy: 0.7740 - val_loss: 0.5383 - val_accuracy: 0.7709\n",
      "Epoch 36/100\n",
      "2545/2545 [==============================] - 5s 2ms/step - loss: 0.5345 - accuracy: 0.7740 - val_loss: 0.5383 - val_accuracy: 0.7709\n",
      "Epoch 37/100\n",
      "2545/2545 [==============================] - 5s 2ms/step - loss: 0.5344 - accuracy: 0.7740 - val_loss: 0.5382 - val_accuracy: 0.7709\n",
      "Epoch 38/100\n",
      "2545/2545 [==============================] - 5s 2ms/step - loss: 0.5345 - accuracy: 0.7740 - val_loss: 0.5383 - val_accuracy: 0.7709\n",
      "Epoch 39/100\n",
      "2545/2545 [==============================] - 6s 2ms/step - loss: 0.5345 - accuracy: 0.7740 - val_loss: 0.5382 - val_accuracy: 0.7709\n",
      "Epoch 40/100\n",
      "2545/2545 [==============================] - 6s 2ms/step - loss: 0.5345 - accuracy: 0.7740 - val_loss: 0.5383 - val_accuracy: 0.7709\n",
      "Epoch 41/100\n",
      "2545/2545 [==============================] - 6s 2ms/step - loss: 0.5345 - accuracy: 0.7740 - val_loss: 0.5382 - val_accuracy: 0.7709\n",
      "Epoch 42/100\n",
      "2545/2545 [==============================] - 5s 2ms/step - loss: 0.5345 - accuracy: 0.7740 - val_loss: 0.5382 - val_accuracy: 0.7709\n",
      "Epoch 43/100\n",
      "2545/2545 [==============================] - 6s 2ms/step - loss: 0.5345 - accuracy: 0.7740 - val_loss: 0.5383 - val_accuracy: 0.7709\n",
      "Epoch 44/100\n",
      "2545/2545 [==============================] - 6s 2ms/step - loss: 0.5344 - accuracy: 0.7740 - val_loss: 0.5382 - val_accuracy: 0.7709\n",
      "Epoch 45/100\n",
      "2545/2545 [==============================] - 6s 2ms/step - loss: 0.5345 - accuracy: 0.7740 - val_loss: 0.5382 - val_accuracy: 0.7709\n",
      "Epoch 46/100\n",
      "2545/2545 [==============================] - 6s 2ms/step - loss: 0.5345 - accuracy: 0.7740 - val_loss: 0.5382 - val_accuracy: 0.7709\n",
      "Epoch 47/100\n",
      "2545/2545 [==============================] - 6s 2ms/step - loss: 0.5345 - accuracy: 0.7740 - val_loss: 0.5383 - val_accuracy: 0.7709\n",
      "Epoch 48/100\n",
      "2545/2545 [==============================] - 6s 2ms/step - loss: 0.5345 - accuracy: 0.7740 - val_loss: 0.5382 - val_accuracy: 0.7709\n",
      "Epoch 49/100\n",
      "2545/2545 [==============================] - 6s 2ms/step - loss: 0.5344 - accuracy: 0.7740 - val_loss: 0.5384 - val_accuracy: 0.7709\n",
      "Epoch 50/100\n",
      "2545/2545 [==============================] - 6s 2ms/step - loss: 0.5344 - accuracy: 0.7740 - val_loss: 0.5382 - val_accuracy: 0.7709\n",
      "Epoch 51/100\n",
      "2545/2545 [==============================] - 5s 2ms/step - loss: 0.5345 - accuracy: 0.7740 - val_loss: 0.5382 - val_accuracy: 0.7709\n",
      "Epoch 52/100\n",
      "2545/2545 [==============================] - 6s 2ms/step - loss: 0.5345 - accuracy: 0.7740 - val_loss: 0.5382 - val_accuracy: 0.7709\n",
      "Epoch 53/100\n",
      "2545/2545 [==============================] - 6s 2ms/step - loss: 0.5345 - accuracy: 0.7740 - val_loss: 0.5382 - val_accuracy: 0.7709\n",
      "Epoch 54/100\n",
      "2545/2545 [==============================] - 6s 2ms/step - loss: 0.5345 - accuracy: 0.7740 - val_loss: 0.5382 - val_accuracy: 0.7709\n",
      "Epoch 55/100\n",
      "2545/2545 [==============================] - 6s 2ms/step - loss: 0.5345 - accuracy: 0.7740 - val_loss: 0.5383 - val_accuracy: 0.7709\n",
      "Epoch 56/100\n",
      "2545/2545 [==============================] - 6s 2ms/step - loss: 0.5345 - accuracy: 0.7740 - val_loss: 0.5383 - val_accuracy: 0.7709\n",
      "Epoch 57/100\n",
      "2545/2545 [==============================] - 6s 2ms/step - loss: 0.5345 - accuracy: 0.7740 - val_loss: 0.5383 - val_accuracy: 0.7709\n",
      "Epoch 58/100\n",
      "2545/2545 [==============================] - 6s 2ms/step - loss: 0.5344 - accuracy: 0.7740 - val_loss: 0.5382 - val_accuracy: 0.7709\n",
      "Epoch 59/100\n",
      "2545/2545 [==============================] - 6s 2ms/step - loss: 0.5345 - accuracy: 0.7740 - val_loss: 0.5382 - val_accuracy: 0.7709\n",
      "Epoch 60/100\n",
      "2545/2545 [==============================] - 6s 2ms/step - loss: 0.5345 - accuracy: 0.7740 - val_loss: 0.5382 - val_accuracy: 0.7709\n",
      "Epoch 61/100\n",
      "2545/2545 [==============================] - 6s 2ms/step - loss: 0.5345 - accuracy: 0.7740 - val_loss: 0.5382 - val_accuracy: 0.7709\n",
      "Epoch 62/100\n",
      "2545/2545 [==============================] - 6s 2ms/step - loss: 0.5345 - accuracy: 0.7740 - val_loss: 0.5382 - val_accuracy: 0.7709\n",
      "Epoch 63/100\n",
      "2545/2545 [==============================] - 6s 2ms/step - loss: 0.5345 - accuracy: 0.7740 - val_loss: 0.5382 - val_accuracy: 0.7709\n",
      "Epoch 64/100\n",
      "2545/2545 [==============================] - 6s 2ms/step - loss: 0.5345 - accuracy: 0.7740 - val_loss: 0.5383 - val_accuracy: 0.7709\n",
      "Epoch 65/100\n",
      "2545/2545 [==============================] - 6s 2ms/step - loss: 0.5345 - accuracy: 0.7740 - val_loss: 0.5382 - val_accuracy: 0.7709\n",
      "Epoch 66/100\n",
      "2545/2545 [==============================] - 6s 2ms/step - loss: 0.5345 - accuracy: 0.7740 - val_loss: 0.5382 - val_accuracy: 0.7709\n",
      "Epoch 67/100\n",
      "2545/2545 [==============================] - 6s 2ms/step - loss: 0.5345 - accuracy: 0.7740 - val_loss: 0.5382 - val_accuracy: 0.7709\n",
      "Epoch 68/100\n",
      "2545/2545 [==============================] - 6s 2ms/step - loss: 0.5345 - accuracy: 0.7740 - val_loss: 0.5382 - val_accuracy: 0.7709\n",
      "Epoch 69/100\n",
      "2545/2545 [==============================] - 6s 2ms/step - loss: 0.5345 - accuracy: 0.7740 - val_loss: 0.5382 - val_accuracy: 0.7709\n",
      "Epoch 70/100\n",
      "2545/2545 [==============================] - 6s 2ms/step - loss: 0.5345 - accuracy: 0.7740 - val_loss: 0.5382 - val_accuracy: 0.7709\n",
      "Epoch 71/100\n",
      "2545/2545 [==============================] - 6s 2ms/step - loss: 0.5344 - accuracy: 0.7740 - val_loss: 0.5382 - val_accuracy: 0.7709\n",
      "Epoch 72/100\n",
      "2545/2545 [==============================] - 6s 2ms/step - loss: 0.5345 - accuracy: 0.7740 - val_loss: 0.5382 - val_accuracy: 0.7709\n",
      "Epoch 73/100\n",
      "2545/2545 [==============================] - 6s 2ms/step - loss: 0.5345 - accuracy: 0.7740 - val_loss: 0.5383 - val_accuracy: 0.7709\n",
      "Epoch 74/100\n",
      "2545/2545 [==============================] - 6s 2ms/step - loss: 0.5345 - accuracy: 0.7740 - val_loss: 0.5382 - val_accuracy: 0.7709\n",
      "Epoch 75/100\n",
      "2545/2545 [==============================] - 6s 2ms/step - loss: 0.5345 - accuracy: 0.7740 - val_loss: 0.5382 - val_accuracy: 0.7709\n",
      "Epoch 76/100\n",
      "2545/2545 [==============================] - 6s 2ms/step - loss: 0.5344 - accuracy: 0.7740 - val_loss: 0.5382 - val_accuracy: 0.7709\n",
      "Epoch 77/100\n",
      "2545/2545 [==============================] - 6s 2ms/step - loss: 0.5345 - accuracy: 0.7740 - val_loss: 0.5382 - val_accuracy: 0.7709\n",
      "Epoch 78/100\n",
      "2545/2545 [==============================] - 6s 2ms/step - loss: 0.5345 - accuracy: 0.7740 - val_loss: 0.5382 - val_accuracy: 0.7709\n",
      "Epoch 79/100\n",
      "2545/2545 [==============================] - 6s 2ms/step - loss: 0.5344 - accuracy: 0.7740 - val_loss: 0.5382 - val_accuracy: 0.7709\n",
      "Epoch 80/100\n",
      "2545/2545 [==============================] - 6s 2ms/step - loss: 0.5345 - accuracy: 0.7740 - val_loss: 0.5383 - val_accuracy: 0.7709\n",
      "Epoch 81/100\n",
      "2545/2545 [==============================] - 6s 2ms/step - loss: 0.5345 - accuracy: 0.7740 - val_loss: 0.5382 - val_accuracy: 0.7709\n",
      "Epoch 82/100\n",
      "2545/2545 [==============================] - 6s 2ms/step - loss: 0.5345 - accuracy: 0.7740 - val_loss: 0.5383 - val_accuracy: 0.7709\n",
      "Epoch 83/100\n",
      "2545/2545 [==============================] - 6s 3ms/step - loss: 0.5344 - accuracy: 0.7740 - val_loss: 0.5382 - val_accuracy: 0.7709\n",
      "Epoch 84/100\n",
      "2545/2545 [==============================] - 6s 2ms/step - loss: 0.5345 - accuracy: 0.7740 - val_loss: 0.5383 - val_accuracy: 0.7709\n",
      "Epoch 85/100\n",
      "2545/2545 [==============================] - 6s 2ms/step - loss: 0.5345 - accuracy: 0.7740 - val_loss: 0.5382 - val_accuracy: 0.7709\n",
      "Epoch 86/100\n",
      "2545/2545 [==============================] - 6s 2ms/step - loss: 0.5344 - accuracy: 0.7740 - val_loss: 0.5382 - val_accuracy: 0.7709\n",
      "Epoch 87/100\n",
      "2545/2545 [==============================] - 6s 2ms/step - loss: 0.5345 - accuracy: 0.7740 - val_loss: 0.5383 - val_accuracy: 0.7709\n",
      "Epoch 88/100\n",
      "2545/2545 [==============================] - 6s 2ms/step - loss: 0.5345 - accuracy: 0.7740 - val_loss: 0.5382 - val_accuracy: 0.7709\n",
      "Epoch 89/100\n",
      "2545/2545 [==============================] - 6s 2ms/step - loss: 0.5345 - accuracy: 0.7740 - val_loss: 0.5382 - val_accuracy: 0.7709\n",
      "Epoch 90/100\n",
      "2545/2545 [==============================] - 6s 2ms/step - loss: 0.5345 - accuracy: 0.7740 - val_loss: 0.5382 - val_accuracy: 0.7709\n",
      "Epoch 91/100\n",
      "2545/2545 [==============================] - 6s 2ms/step - loss: 0.5345 - accuracy: 0.7740 - val_loss: 0.5382 - val_accuracy: 0.7709\n",
      "Epoch 92/100\n",
      "2545/2545 [==============================] - 6s 2ms/step - loss: 0.5345 - accuracy: 0.7740 - val_loss: 0.5382 - val_accuracy: 0.7709\n",
      "Epoch 93/100\n",
      "2545/2545 [==============================] - 6s 2ms/step - loss: 0.5345 - accuracy: 0.7740 - val_loss: 0.5382 - val_accuracy: 0.7709\n",
      "Epoch 94/100\n",
      "2545/2545 [==============================] - 6s 2ms/step - loss: 0.5345 - accuracy: 0.7740 - val_loss: 0.5383 - val_accuracy: 0.7709\n",
      "Epoch 95/100\n",
      "2545/2545 [==============================] - 6s 2ms/step - loss: 0.5345 - accuracy: 0.7740 - val_loss: 0.5382 - val_accuracy: 0.7709\n",
      "Epoch 96/100\n",
      "2545/2545 [==============================] - 6s 2ms/step - loss: 0.5345 - accuracy: 0.7740 - val_loss: 0.5382 - val_accuracy: 0.7709\n",
      "Epoch 97/100\n",
      "2545/2545 [==============================] - 6s 2ms/step - loss: 0.5345 - accuracy: 0.7740 - val_loss: 0.5382 - val_accuracy: 0.7709\n",
      "Epoch 98/100\n",
      "2545/2545 [==============================] - 6s 2ms/step - loss: 0.5345 - accuracy: 0.7740 - val_loss: 0.5382 - val_accuracy: 0.7709\n",
      "Epoch 99/100\n",
      "2545/2545 [==============================] - 6s 2ms/step - loss: 0.5345 - accuracy: 0.7740 - val_loss: 0.5383 - val_accuracy: 0.7709\n",
      "Epoch 100/100\n",
      "2545/2545 [==============================] - 6s 2ms/step - loss: 0.5345 - accuracy: 0.7740 - val_loss: 0.5382 - val_accuracy: 0.7709\n"
     ]
    },
    {
     "data": {
      "text/plain": [
       "<keras.src.callbacks.History at 0x7a96d8c67730>"
      ]
     },
     "execution_count": 29,
     "metadata": {},
     "output_type": "execute_result"
    }
   ],
   "source": [
    "model.fit(x,y,epochs=100,validation_split=.20,batch_size=32,verbose=1)\n",
    "\n",
    "#validation_split=.20  bu kon train_test_spliti otomatik yapıyor"
   ]
  },
  {
   "cell_type": "code",
   "execution_count": 30,
   "metadata": {
    "execution": {
     "iopub.execute_input": "2023-12-14T16:02:58.534959Z",
     "iopub.status.busy": "2023-12-14T16:02:58.534505Z",
     "iopub.status.idle": "2023-12-14T16:03:03.135463Z",
     "shell.execute_reply": "2023-12-14T16:03:03.134516Z",
     "shell.execute_reply.started": "2023-12-14T16:02:58.534926Z"
    }
   },
   "outputs": [
    {
     "name": "stdout",
     "output_type": "stream",
     "text": [
      "3181/3181 [==============================] - 4s 1ms/step - loss: 0.5352 - accuracy: 0.7734\n"
     ]
    }
   ],
   "source": [
    "score=model.evaluate(x,y)"
   ]
  },
  {
   "cell_type": "code",
   "execution_count": 31,
   "metadata": {
    "execution": {
     "iopub.execute_input": "2023-12-14T16:03:14.878862Z",
     "iopub.status.busy": "2023-12-14T16:03:14.878465Z",
     "iopub.status.idle": "2023-12-14T16:03:14.904843Z",
     "shell.execute_reply": "2023-12-14T16:03:14.903700Z",
     "shell.execute_reply.started": "2023-12-14T16:03:14.878830Z"
    }
   },
   "outputs": [
    {
     "name": "stdout",
     "output_type": "stream",
     "text": [
      "Model: \"sequential_1\"\n",
      "_________________________________________________________________\n",
      " Layer (type)                Output Shape              Param #   \n",
      "=================================================================\n",
      " dense_6 (Dense)             (None, 8)                 184       \n",
      "                                                                 \n",
      " dense_7 (Dense)             (None, 120)               1080      \n",
      "                                                                 \n",
      " dense_8 (Dense)             (None, 64)                7744      \n",
      "                                                                 \n",
      " dense_9 (Dense)             (None, 6)                 390       \n",
      "                                                                 \n",
      " dense_10 (Dense)            (None, 2)                 14        \n",
      "                                                                 \n",
      " dense_11 (Dense)            (None, 1)                 3         \n",
      "                                                                 \n",
      "=================================================================\n",
      "Total params: 9415 (36.78 KB)\n",
      "Trainable params: 9415 (36.78 KB)\n",
      "Non-trainable params: 0 (0.00 Byte)\n",
      "_________________________________________________________________\n"
     ]
    }
   ],
   "source": [
    "model.summary()"
   ]
  },
  {
   "cell_type": "code",
   "execution_count": null,
   "metadata": {},
   "outputs": [],
   "source": [
    "#DEEP LEARNİNG İLE FARKLI DENEMELERDE AYNI SONUÇ ÇIKTI. HATALI BİR YER OLABİLİR."
   ]
  }
 ],
 "metadata": {
  "kaggle": {
   "accelerator": "none",
   "dataSources": [
    {
     "databundleVersionId": 6622167,
     "sourceId": 60890,
     "sourceType": "competition"
    }
   ],
   "dockerImageVersionId": 30626,
   "isGpuEnabled": false,
   "isInternetEnabled": true,
   "language": "python",
   "sourceType": "notebook"
  },
  "kernelspec": {
   "display_name": "Python 3 (ipykernel)",
   "language": "python",
   "name": "python3"
  },
  "language_info": {
   "codemirror_mode": {
    "name": "ipython",
    "version": 3
   },
   "file_extension": ".py",
   "mimetype": "text/x-python",
   "name": "python",
   "nbconvert_exporter": "python",
   "pygments_lexer": "ipython3",
   "version": "3.11.3"
  }
 },
 "nbformat": 4,
 "nbformat_minor": 4
}
